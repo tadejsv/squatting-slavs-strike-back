{
 "cells": [
  {
   "cell_type": "code",
   "execution_count": 1,
   "id": "40af690f-de13-4a4f-8b4f-4a781b1bd634",
   "metadata": {
    "ExecuteTime": {
     "end_time": "2021-04-18T02:04:01.154627Z",
     "start_time": "2021-04-18T02:04:00.655466Z"
    }
   },
   "outputs": [],
   "source": [
    "import gc\n",
    "\n",
    "import numpy as np\n",
    "import pandas as pd\n",
    "from catboost import CatBoostRegressor, Pool\n",
    "from sklearn.metrics import confusion_matrix\n",
    "\n",
    "from src.utils import calculate_profit, train_val_test_split, signed_log10_1p"
   ]
  },
  {
   "cell_type": "markdown",
   "id": "b175c41a-268b-47ab-8972-8c7428a5601d",
   "metadata": {
    "tags": []
   },
   "source": [
    "## Construct the `profit` and `profitable` variables"
   ]
  },
  {
   "cell_type": "code",
   "execution_count": 2,
   "id": "4f366557-16ce-499e-8bfa-0cfe578bece9",
   "metadata": {
    "ExecuteTime": {
     "end_time": "2021-04-18T02:04:03.790928Z",
     "start_time": "2021-04-18T02:04:03.718276Z"
    }
   },
   "outputs": [],
   "source": [
    "funnel = pd.read_csv('train_data/funnel.csv')\n",
    "funnel['profit'] = calculate_profit(funnel)\n",
    "funnel['log_profit'] = funnel['profit'].apply(signed_log10_1p)\n",
    "funnel['profitable'] = (funnel['profit'] > 0).astype(int)"
   ]
  },
  {
   "cell_type": "markdown",
   "id": "c9a47ae4-8581-4203-978f-e8e5617ea68c",
   "metadata": {},
   "source": [
    "## Construct balances\n",
    "\n",
    "I'll try to get last balance, and then difference from last balance for last few months"
   ]
  },
  {
   "cell_type": "code",
   "execution_count": 3,
   "id": "cfee8813-9e21-47a8-bc0a-732eb26048be",
   "metadata": {
    "ExecuteTime": {
     "end_time": "2021-04-18T02:04:05.194550Z",
     "start_time": "2021-04-18T02:04:04.129538Z"
    }
   },
   "outputs": [],
   "source": [
    "balances = pd.read_csv('train_data/balance.csv')"
   ]
  },
  {
   "cell_type": "code",
   "execution_count": 4,
   "id": "25a83a60-7ad8-4325-8bc5-010caac39d34",
   "metadata": {
    "ExecuteTime": {
     "end_time": "2021-04-18T02:04:05.630803Z",
     "start_time": "2021-04-18T02:04:05.195852Z"
    }
   },
   "outputs": [],
   "source": [
    "# Sum up across all accounts\n",
    "account_sums = balances.groupby(['client_id', 'month_end_dt'])[['avg_bal_sum_rur', 'max_bal_sum_rur', 'min_bal_sum_rur']].sum()\n",
    "\n",
    "# Get average range (max - min) for all clients\n",
    "account_sums['range'] = account_sums['max_bal_sum_rur'] - account_sums['min_bal_sum_rur']\n",
    "avg_range = account_sums['range'].mean(level='client_id', skipna=True)\n",
    "\n",
    "# Get the average amount in the last month\n",
    "last_month_avg = account_sums.iloc[account_sums.index.get_level_values('month_end_dt') == '2019-08-31']\n",
    "last_month_avg = last_month_avg['avg_bal_sum_rur']\n",
    "last_month_avg.index = last_month_avg.index.droplevel('month_end_dt')\n",
    "\n",
    "# Get differences from the average in the last month\n",
    "account_sums['diff_last_month'] = account_sums['avg_bal_sum_rur'] - last_month_avg\n",
    "diffs = account_sums['diff_last_month'].reset_index().query('month_end_dt != \"2019-08-31\"')\n",
    "diffs = diffs.pivot(index='client_id', columns='month_end_dt')\n",
    "\n",
    "# Put together all balance features\n",
    "diffs.columns = [f'balance_diff_{c[1]}' for c in diffs.columns]\n",
    "balance_ft = diffs\n",
    "balance_ft['avg_range'] = avg_range\n",
    "balance_ft['last_month_avg'] = last_month_avg"
   ]
  },
  {
   "cell_type": "code",
   "execution_count": 5,
   "id": "70438c6c-c3b5-4f91-b3ef-7eb15d9bb958",
   "metadata": {
    "ExecuteTime": {
     "end_time": "2021-04-18T02:04:05.686329Z",
     "start_time": "2021-04-18T02:04:05.632355Z"
    }
   },
   "outputs": [
    {
     "data": {
      "text/html": [
       "<div>\n",
       "<style scoped>\n",
       "    .dataframe tbody tr th:only-of-type {\n",
       "        vertical-align: middle;\n",
       "    }\n",
       "\n",
       "    .dataframe tbody tr th {\n",
       "        vertical-align: top;\n",
       "    }\n",
       "\n",
       "    .dataframe thead th {\n",
       "        text-align: right;\n",
       "    }\n",
       "</style>\n",
       "<table border=\"1\" class=\"dataframe\">\n",
       "  <thead>\n",
       "    <tr style=\"text-align: right;\">\n",
       "      <th></th>\n",
       "      <th>balance_diff_2018-09-30</th>\n",
       "      <th>balance_diff_2018-10-31</th>\n",
       "      <th>balance_diff_2018-11-30</th>\n",
       "      <th>balance_diff_2018-12-31</th>\n",
       "      <th>balance_diff_2019-01-31</th>\n",
       "      <th>balance_diff_2019-02-28</th>\n",
       "      <th>balance_diff_2019-03-31</th>\n",
       "      <th>balance_diff_2019-04-30</th>\n",
       "      <th>balance_diff_2019-05-31</th>\n",
       "      <th>balance_diff_2019-06-30</th>\n",
       "      <th>balance_diff_2019-07-31</th>\n",
       "      <th>avg_range</th>\n",
       "      <th>last_month_avg</th>\n",
       "    </tr>\n",
       "  </thead>\n",
       "  <tbody>\n",
       "    <tr>\n",
       "      <th>count</th>\n",
       "      <td>16455.000000</td>\n",
       "      <td>16710.000000</td>\n",
       "      <td>17056.000000</td>\n",
       "      <td>17412.000000</td>\n",
       "      <td>17633.000000</td>\n",
       "      <td>17942.000000</td>\n",
       "      <td>18271.000000</td>\n",
       "      <td>18423.000000</td>\n",
       "      <td>18582.000000</td>\n",
       "      <td>18605.000000</td>\n",
       "      <td>18618.000000</td>\n",
       "      <td>18619.000000</td>\n",
       "      <td>18619.000000</td>\n",
       "    </tr>\n",
       "    <tr>\n",
       "      <th>mean</th>\n",
       "      <td>87.988210</td>\n",
       "      <td>51.673190</td>\n",
       "      <td>46.710483</td>\n",
       "      <td>33.441822</td>\n",
       "      <td>17.955481</td>\n",
       "      <td>10.769981</td>\n",
       "      <td>4.449948</td>\n",
       "      <td>8.166042</td>\n",
       "      <td>5.379130</td>\n",
       "      <td>6.465090</td>\n",
       "      <td>4.418520</td>\n",
       "      <td>52.000720</td>\n",
       "      <td>-90.814759</td>\n",
       "    </tr>\n",
       "    <tr>\n",
       "      <th>std</th>\n",
       "      <td>1884.751453</td>\n",
       "      <td>1181.022633</td>\n",
       "      <td>1157.721772</td>\n",
       "      <td>950.131726</td>\n",
       "      <td>553.243603</td>\n",
       "      <td>547.045252</td>\n",
       "      <td>498.944701</td>\n",
       "      <td>476.696726</td>\n",
       "      <td>352.540639</td>\n",
       "      <td>324.753785</td>\n",
       "      <td>262.595122</td>\n",
       "      <td>172.862765</td>\n",
       "      <td>934.295467</td>\n",
       "    </tr>\n",
       "    <tr>\n",
       "      <th>min</th>\n",
       "      <td>-38052.000000</td>\n",
       "      <td>-25178.000000</td>\n",
       "      <td>-24428.000000</td>\n",
       "      <td>-23909.000000</td>\n",
       "      <td>-23319.000000</td>\n",
       "      <td>-22554.000000</td>\n",
       "      <td>-21500.000000</td>\n",
       "      <td>-21311.000000</td>\n",
       "      <td>-21300.000000</td>\n",
       "      <td>-21454.000000</td>\n",
       "      <td>-20211.000000</td>\n",
       "      <td>0.000000</td>\n",
       "      <td>-31173.000000</td>\n",
       "    </tr>\n",
       "    <tr>\n",
       "      <th>25%</th>\n",
       "      <td>-5.000000</td>\n",
       "      <td>-7.000000</td>\n",
       "      <td>-8.000000</td>\n",
       "      <td>-8.000000</td>\n",
       "      <td>-10.000000</td>\n",
       "      <td>-11.000000</td>\n",
       "      <td>-13.000000</td>\n",
       "      <td>-10.000000</td>\n",
       "      <td>-8.000000</td>\n",
       "      <td>-5.000000</td>\n",
       "      <td>-2.000000</td>\n",
       "      <td>0.000000</td>\n",
       "      <td>0.000000</td>\n",
       "    </tr>\n",
       "    <tr>\n",
       "      <th>50%</th>\n",
       "      <td>0.000000</td>\n",
       "      <td>0.000000</td>\n",
       "      <td>0.000000</td>\n",
       "      <td>0.000000</td>\n",
       "      <td>0.000000</td>\n",
       "      <td>0.000000</td>\n",
       "      <td>0.000000</td>\n",
       "      <td>0.000000</td>\n",
       "      <td>0.000000</td>\n",
       "      <td>0.000000</td>\n",
       "      <td>0.000000</td>\n",
       "      <td>10.833333</td>\n",
       "      <td>0.000000</td>\n",
       "    </tr>\n",
       "    <tr>\n",
       "      <th>75%</th>\n",
       "      <td>1.000000</td>\n",
       "      <td>0.000000</td>\n",
       "      <td>0.000000</td>\n",
       "      <td>0.000000</td>\n",
       "      <td>0.000000</td>\n",
       "      <td>0.000000</td>\n",
       "      <td>0.000000</td>\n",
       "      <td>0.000000</td>\n",
       "      <td>0.000000</td>\n",
       "      <td>0.000000</td>\n",
       "      <td>0.000000</td>\n",
       "      <td>50.833333</td>\n",
       "      <td>7.000000</td>\n",
       "    </tr>\n",
       "    <tr>\n",
       "      <th>max</th>\n",
       "      <td>108444.000000</td>\n",
       "      <td>77117.000000</td>\n",
       "      <td>77565.000000</td>\n",
       "      <td>76899.000000</td>\n",
       "      <td>11144.000000</td>\n",
       "      <td>13059.000000</td>\n",
       "      <td>12013.000000</td>\n",
       "      <td>22115.000000</td>\n",
       "      <td>11144.000000</td>\n",
       "      <td>11144.000000</td>\n",
       "      <td>5795.000000</td>\n",
       "      <td>7792.083333</td>\n",
       "      <td>38052.000000</td>\n",
       "    </tr>\n",
       "  </tbody>\n",
       "</table>\n",
       "</div>"
      ],
      "text/plain": [
       "       balance_diff_2018-09-30  balance_diff_2018-10-31  \\\n",
       "count             16455.000000             16710.000000   \n",
       "mean                 87.988210                51.673190   \n",
       "std                1884.751453              1181.022633   \n",
       "min              -38052.000000            -25178.000000   \n",
       "25%                  -5.000000                -7.000000   \n",
       "50%                   0.000000                 0.000000   \n",
       "75%                   1.000000                 0.000000   \n",
       "max              108444.000000             77117.000000   \n",
       "\n",
       "       balance_diff_2018-11-30  balance_diff_2018-12-31  \\\n",
       "count             17056.000000             17412.000000   \n",
       "mean                 46.710483                33.441822   \n",
       "std                1157.721772               950.131726   \n",
       "min              -24428.000000            -23909.000000   \n",
       "25%                  -8.000000                -8.000000   \n",
       "50%                   0.000000                 0.000000   \n",
       "75%                   0.000000                 0.000000   \n",
       "max               77565.000000             76899.000000   \n",
       "\n",
       "       balance_diff_2019-01-31  balance_diff_2019-02-28  \\\n",
       "count             17633.000000             17942.000000   \n",
       "mean                 17.955481                10.769981   \n",
       "std                 553.243603               547.045252   \n",
       "min              -23319.000000            -22554.000000   \n",
       "25%                 -10.000000               -11.000000   \n",
       "50%                   0.000000                 0.000000   \n",
       "75%                   0.000000                 0.000000   \n",
       "max               11144.000000             13059.000000   \n",
       "\n",
       "       balance_diff_2019-03-31  balance_diff_2019-04-30  \\\n",
       "count             18271.000000             18423.000000   \n",
       "mean                  4.449948                 8.166042   \n",
       "std                 498.944701               476.696726   \n",
       "min              -21500.000000            -21311.000000   \n",
       "25%                 -13.000000               -10.000000   \n",
       "50%                   0.000000                 0.000000   \n",
       "75%                   0.000000                 0.000000   \n",
       "max               12013.000000             22115.000000   \n",
       "\n",
       "       balance_diff_2019-05-31  balance_diff_2019-06-30  \\\n",
       "count             18582.000000             18605.000000   \n",
       "mean                  5.379130                 6.465090   \n",
       "std                 352.540639               324.753785   \n",
       "min              -21300.000000            -21454.000000   \n",
       "25%                  -8.000000                -5.000000   \n",
       "50%                   0.000000                 0.000000   \n",
       "75%                   0.000000                 0.000000   \n",
       "max               11144.000000             11144.000000   \n",
       "\n",
       "       balance_diff_2019-07-31     avg_range  last_month_avg  \n",
       "count             18618.000000  18619.000000    18619.000000  \n",
       "mean                  4.418520     52.000720      -90.814759  \n",
       "std                 262.595122    172.862765      934.295467  \n",
       "min              -20211.000000      0.000000   -31173.000000  \n",
       "25%                  -2.000000      0.000000        0.000000  \n",
       "50%                   0.000000     10.833333        0.000000  \n",
       "75%                   0.000000     50.833333        7.000000  \n",
       "max                5795.000000   7792.083333    38052.000000  "
      ]
     },
     "execution_count": 5,
     "metadata": {},
     "output_type": "execute_result"
    }
   ],
   "source": [
    "balance_ft.describe()"
   ]
  },
  {
   "cell_type": "markdown",
   "id": "361c8546-3ae3-492d-855b-3ccbfbac16bf",
   "metadata": {},
   "source": [
    "## Construct AUM\n",
    "\n",
    "Same as with balances, but now for assets under managament"
   ]
  },
  {
   "cell_type": "code",
   "execution_count": 6,
   "id": "a92c3916-b101-41a9-8895-464dc6855a9c",
   "metadata": {
    "ExecuteTime": {
     "end_time": "2021-04-18T02:04:05.752647Z",
     "start_time": "2021-04-18T02:04:05.687585Z"
    }
   },
   "outputs": [],
   "source": [
    "aum = pd.read_csv('train_data/aum.csv')"
   ]
  },
  {
   "cell_type": "code",
   "execution_count": 7,
   "id": "077cd42f-e100-423d-82cf-c9963490d643",
   "metadata": {
    "ExecuteTime": {
     "end_time": "2021-04-18T02:04:05.845157Z",
     "start_time": "2021-04-18T02:04:05.753833Z"
    }
   },
   "outputs": [],
   "source": [
    "# Sum up across all accounts\n",
    "aum_sums = aum.groupby(['client_id', 'month_end_dt'])[['balance_rur_amt']].sum()\n",
    "\n",
    "# Get STD for last few months for client\n",
    "aum_std = aum_sums.std(level='client_id', skipna=True)\n",
    "\n",
    "# Get the average amount in the last month\n",
    "last_month_aum = aum_sums.iloc[aum_sums.index.get_level_values('month_end_dt') == '2019-08-31']\n",
    "last_month_aum = last_month_aum['balance_rur_amt']\n",
    "last_month_aum.index = last_month_aum.index.droplevel('month_end_dt')\n",
    "\n",
    "# Get differences from the average in the last month\n",
    "aum_sums['diff_last_month'] = aum_sums['balance_rur_amt'] - last_month_aum\n",
    "diffs = aum_sums['diff_last_month'].reset_index().query('month_end_dt != \"2019-08-31\"')\n",
    "diffs = diffs.pivot(index='client_id', columns='month_end_dt')\n",
    "\n",
    "# Put together all balance features\n",
    "diffs.columns = [f'aum_diff_{c[1]}' for c in diffs.columns]\n",
    "aum_ft = diffs\n",
    "aum_ft['aum_std'] = aum_std\n",
    "aum_ft['aum_last_month'] = last_month_aum"
   ]
  },
  {
   "cell_type": "code",
   "execution_count": 8,
   "id": "87157f46-5f18-4914-bbcf-cadc5467c705",
   "metadata": {
    "ExecuteTime": {
     "end_time": "2021-04-18T02:04:05.888994Z",
     "start_time": "2021-04-18T02:04:05.846424Z"
    }
   },
   "outputs": [
    {
     "data": {
      "text/html": [
       "<div>\n",
       "<style scoped>\n",
       "    .dataframe tbody tr th:only-of-type {\n",
       "        vertical-align: middle;\n",
       "    }\n",
       "\n",
       "    .dataframe tbody tr th {\n",
       "        vertical-align: top;\n",
       "    }\n",
       "\n",
       "    .dataframe thead th {\n",
       "        text-align: right;\n",
       "    }\n",
       "</style>\n",
       "<table border=\"1\" class=\"dataframe\">\n",
       "  <thead>\n",
       "    <tr style=\"text-align: right;\">\n",
       "      <th></th>\n",
       "      <th>aum_diff_2018-11-30</th>\n",
       "      <th>aum_diff_2018-12-31</th>\n",
       "      <th>aum_diff_2019-01-31</th>\n",
       "      <th>aum_diff_2019-02-28</th>\n",
       "      <th>aum_diff_2019-03-31</th>\n",
       "      <th>aum_diff_2019-04-30</th>\n",
       "      <th>aum_diff_2019-05-31</th>\n",
       "      <th>aum_diff_2019-06-30</th>\n",
       "      <th>aum_diff_2019-07-31</th>\n",
       "      <th>aum_std</th>\n",
       "      <th>aum_last_month</th>\n",
       "    </tr>\n",
       "  </thead>\n",
       "  <tbody>\n",
       "    <tr>\n",
       "      <th>count</th>\n",
       "      <td>8.608000e+03</td>\n",
       "      <td>9.813000e+03</td>\n",
       "      <td>9.955000e+03</td>\n",
       "      <td>1.028500e+04</td>\n",
       "      <td>1.064800e+04</td>\n",
       "      <td>1.092600e+04</td>\n",
       "      <td>1.109900e+04</td>\n",
       "      <td>1.133700e+04</td>\n",
       "      <td>1.145600e+04</td>\n",
       "      <td>1.233600e+04</td>\n",
       "      <td>1.155000e+04</td>\n",
       "    </tr>\n",
       "    <tr>\n",
       "      <th>mean</th>\n",
       "      <td>-5.001248e+04</td>\n",
       "      <td>-2.714613e+04</td>\n",
       "      <td>-3.435988e+04</td>\n",
       "      <td>-2.387928e+04</td>\n",
       "      <td>-2.682130e+04</td>\n",
       "      <td>-7.292388e+03</td>\n",
       "      <td>-5.554313e+03</td>\n",
       "      <td>3.399581e+02</td>\n",
       "      <td>3.206510e+03</td>\n",
       "      <td>6.753699e+04</td>\n",
       "      <td>1.689718e+05</td>\n",
       "    </tr>\n",
       "    <tr>\n",
       "      <th>std</th>\n",
       "      <td>7.507566e+05</td>\n",
       "      <td>6.796489e+05</td>\n",
       "      <td>6.416814e+05</td>\n",
       "      <td>5.892972e+05</td>\n",
       "      <td>4.643446e+05</td>\n",
       "      <td>3.769064e+05</td>\n",
       "      <td>3.329760e+05</td>\n",
       "      <td>3.086190e+05</td>\n",
       "      <td>2.129571e+05</td>\n",
       "      <td>3.048220e+05</td>\n",
       "      <td>9.854516e+05</td>\n",
       "    </tr>\n",
       "    <tr>\n",
       "      <th>min</th>\n",
       "      <td>-4.330515e+07</td>\n",
       "      <td>-4.239884e+07</td>\n",
       "      <td>-3.872596e+07</td>\n",
       "      <td>-2.954090e+07</td>\n",
       "      <td>-2.162469e+07</td>\n",
       "      <td>-2.158606e+07</td>\n",
       "      <td>-2.151494e+07</td>\n",
       "      <td>-2.193740e+07</td>\n",
       "      <td>-7.659409e+06</td>\n",
       "      <td>0.000000e+00</td>\n",
       "      <td>-2.078000e+03</td>\n",
       "    </tr>\n",
       "    <tr>\n",
       "      <th>25%</th>\n",
       "      <td>-3.222175e+04</td>\n",
       "      <td>-1.827500e+04</td>\n",
       "      <td>-2.341400e+04</td>\n",
       "      <td>-1.804400e+04</td>\n",
       "      <td>-2.073700e+04</td>\n",
       "      <td>-1.057550e+04</td>\n",
       "      <td>-1.231750e+04</td>\n",
       "      <td>-8.498000e+03</td>\n",
       "      <td>-6.059500e+03</td>\n",
       "      <td>3.975839e+03</td>\n",
       "      <td>4.910000e+02</td>\n",
       "    </tr>\n",
       "    <tr>\n",
       "      <th>50%</th>\n",
       "      <td>-6.750000e+02</td>\n",
       "      <td>0.000000e+00</td>\n",
       "      <td>-1.450000e+02</td>\n",
       "      <td>0.000000e+00</td>\n",
       "      <td>-2.040000e+02</td>\n",
       "      <td>0.000000e+00</td>\n",
       "      <td>0.000000e+00</td>\n",
       "      <td>0.000000e+00</td>\n",
       "      <td>0.000000e+00</td>\n",
       "      <td>1.461534e+04</td>\n",
       "      <td>1.172700e+04</td>\n",
       "    </tr>\n",
       "    <tr>\n",
       "      <th>75%</th>\n",
       "      <td>7.150000e+03</td>\n",
       "      <td>1.319900e+04</td>\n",
       "      <td>3.943000e+03</td>\n",
       "      <td>7.215000e+03</td>\n",
       "      <td>2.927000e+03</td>\n",
       "      <td>1.339375e+04</td>\n",
       "      <td>8.011000e+03</td>\n",
       "      <td>1.158000e+04</td>\n",
       "      <td>8.908000e+03</td>\n",
       "      <td>4.718967e+04</td>\n",
       "      <td>6.347625e+04</td>\n",
       "    </tr>\n",
       "    <tr>\n",
       "      <th>max</th>\n",
       "      <td>7.367170e+06</td>\n",
       "      <td>7.980098e+06</td>\n",
       "      <td>8.014740e+06</td>\n",
       "      <td>1.427104e+07</td>\n",
       "      <td>1.026630e+07</td>\n",
       "      <td>1.093164e+07</td>\n",
       "      <td>7.523952e+06</td>\n",
       "      <td>4.848174e+06</td>\n",
       "      <td>1.108082e+07</td>\n",
       "      <td>1.942198e+07</td>\n",
       "      <td>6.464412e+07</td>\n",
       "    </tr>\n",
       "  </tbody>\n",
       "</table>\n",
       "</div>"
      ],
      "text/plain": [
       "       aum_diff_2018-11-30  aum_diff_2018-12-31  aum_diff_2019-01-31  \\\n",
       "count         8.608000e+03         9.813000e+03         9.955000e+03   \n",
       "mean         -5.001248e+04        -2.714613e+04        -3.435988e+04   \n",
       "std           7.507566e+05         6.796489e+05         6.416814e+05   \n",
       "min          -4.330515e+07        -4.239884e+07        -3.872596e+07   \n",
       "25%          -3.222175e+04        -1.827500e+04        -2.341400e+04   \n",
       "50%          -6.750000e+02         0.000000e+00        -1.450000e+02   \n",
       "75%           7.150000e+03         1.319900e+04         3.943000e+03   \n",
       "max           7.367170e+06         7.980098e+06         8.014740e+06   \n",
       "\n",
       "       aum_diff_2019-02-28  aum_diff_2019-03-31  aum_diff_2019-04-30  \\\n",
       "count         1.028500e+04         1.064800e+04         1.092600e+04   \n",
       "mean         -2.387928e+04        -2.682130e+04        -7.292388e+03   \n",
       "std           5.892972e+05         4.643446e+05         3.769064e+05   \n",
       "min          -2.954090e+07        -2.162469e+07        -2.158606e+07   \n",
       "25%          -1.804400e+04        -2.073700e+04        -1.057550e+04   \n",
       "50%           0.000000e+00        -2.040000e+02         0.000000e+00   \n",
       "75%           7.215000e+03         2.927000e+03         1.339375e+04   \n",
       "max           1.427104e+07         1.026630e+07         1.093164e+07   \n",
       "\n",
       "       aum_diff_2019-05-31  aum_diff_2019-06-30  aum_diff_2019-07-31  \\\n",
       "count         1.109900e+04         1.133700e+04         1.145600e+04   \n",
       "mean         -5.554313e+03         3.399581e+02         3.206510e+03   \n",
       "std           3.329760e+05         3.086190e+05         2.129571e+05   \n",
       "min          -2.151494e+07        -2.193740e+07        -7.659409e+06   \n",
       "25%          -1.231750e+04        -8.498000e+03        -6.059500e+03   \n",
       "50%           0.000000e+00         0.000000e+00         0.000000e+00   \n",
       "75%           8.011000e+03         1.158000e+04         8.908000e+03   \n",
       "max           7.523952e+06         4.848174e+06         1.108082e+07   \n",
       "\n",
       "            aum_std  aum_last_month  \n",
       "count  1.233600e+04    1.155000e+04  \n",
       "mean   6.753699e+04    1.689718e+05  \n",
       "std    3.048220e+05    9.854516e+05  \n",
       "min    0.000000e+00   -2.078000e+03  \n",
       "25%    3.975839e+03    4.910000e+02  \n",
       "50%    1.461534e+04    1.172700e+04  \n",
       "75%    4.718967e+04    6.347625e+04  \n",
       "max    1.942198e+07    6.464412e+07  "
      ]
     },
     "execution_count": 8,
     "metadata": {},
     "output_type": "execute_result"
    }
   ],
   "source": [
    "aum_ft.describe()"
   ]
  },
  {
   "cell_type": "markdown",
   "id": "f9a8be71-b005-4d50-a8f9-d36a01ad48a8",
   "metadata": {},
   "source": [
    "## Construct client dataset"
   ]
  },
  {
   "cell_type": "code",
   "execution_count": 9,
   "id": "be4c6cf3-c06a-447c-bb68-d1092c5efb62",
   "metadata": {
    "ExecuteTime": {
     "end_time": "2021-04-18T02:04:05.907108Z",
     "start_time": "2021-04-18T02:04:05.890406Z"
    }
   },
   "outputs": [],
   "source": [
    "client = pd.read_csv('train_data/client.csv')"
   ]
  },
  {
   "cell_type": "code",
   "execution_count": 10,
   "id": "bb07935b-13ce-4e1b-abfb-ce6c07220427",
   "metadata": {
    "ExecuteTime": {
     "end_time": "2021-04-18T02:04:07.759414Z",
     "start_time": "2021-04-18T02:04:07.719296Z"
    }
   },
   "outputs": [],
   "source": [
    "# Take out citizenship and job_type, they are useless\n",
    "client_ft = client.set_index('client_id')[['gender', 'age', 'region', 'city', 'education']]\n",
    "\n",
    "# Filter out cities and region to only those above 200, make them categorical (not numerical)\n",
    "region_counts = client_ft['region'].value_counts(dropna=False)\n",
    "top_regions = region_counts[region_counts > 200].index\n",
    "\n",
    "city_counts = client_ft['city'].value_counts(dropna=False)\n",
    "top_cities = city_counts[city_counts > 200].index\n",
    "\n",
    "client_ft.loc[~ client_ft['city'].isin(top_cities), 'city'] = None\n",
    "client_ft.loc[~ client_ft['region'].isin(top_regions), 'region'] = None\n",
    "\n",
    "client_ft['city'] = client_ft['city'].astype('str')\n",
    "client_ft['region'] = client_ft['region'].astype('str')\n",
    "\n",
    "client_ft[['gender', 'education']] = client_ft[['gender', 'education']].fillna('nan')"
   ]
  },
  {
   "cell_type": "code",
   "execution_count": 11,
   "id": "8d29af93-8aae-4db2-9713-527dbfdf146d",
   "metadata": {
    "ExecuteTime": {
     "end_time": "2021-04-18T02:04:08.431392Z",
     "start_time": "2021-04-18T02:04:08.393643Z"
    },
    "scrolled": true
   },
   "outputs": [
    {
     "data": {
      "text/html": [
       "<div>\n",
       "<style scoped>\n",
       "    .dataframe tbody tr th:only-of-type {\n",
       "        vertical-align: middle;\n",
       "    }\n",
       "\n",
       "    .dataframe tbody tr th {\n",
       "        vertical-align: top;\n",
       "    }\n",
       "\n",
       "    .dataframe thead th {\n",
       "        text-align: right;\n",
       "    }\n",
       "</style>\n",
       "<table border=\"1\" class=\"dataframe\">\n",
       "  <thead>\n",
       "    <tr style=\"text-align: right;\">\n",
       "      <th></th>\n",
       "      <th>gender</th>\n",
       "      <th>age</th>\n",
       "      <th>region</th>\n",
       "      <th>city</th>\n",
       "      <th>education</th>\n",
       "    </tr>\n",
       "  </thead>\n",
       "  <tbody>\n",
       "    <tr>\n",
       "      <th>count</th>\n",
       "      <td>21498</td>\n",
       "      <td>21495.000000</td>\n",
       "      <td>21498</td>\n",
       "      <td>21498</td>\n",
       "      <td>21498</td>\n",
       "    </tr>\n",
       "    <tr>\n",
       "      <th>unique</th>\n",
       "      <td>3</td>\n",
       "      <td>NaN</td>\n",
       "      <td>29</td>\n",
       "      <td>17</td>\n",
       "      <td>8</td>\n",
       "    </tr>\n",
       "    <tr>\n",
       "      <th>top</th>\n",
       "      <td>F</td>\n",
       "      <td>NaN</td>\n",
       "      <td>nan</td>\n",
       "      <td>nan</td>\n",
       "      <td>nan</td>\n",
       "    </tr>\n",
       "    <tr>\n",
       "      <th>freq</th>\n",
       "      <td>11116</td>\n",
       "      <td>NaN</td>\n",
       "      <td>4461</td>\n",
       "      <td>13862</td>\n",
       "      <td>12218</td>\n",
       "    </tr>\n",
       "    <tr>\n",
       "      <th>mean</th>\n",
       "      <td>NaN</td>\n",
       "      <td>43.097139</td>\n",
       "      <td>NaN</td>\n",
       "      <td>NaN</td>\n",
       "      <td>NaN</td>\n",
       "    </tr>\n",
       "    <tr>\n",
       "      <th>std</th>\n",
       "      <td>NaN</td>\n",
       "      <td>10.798968</td>\n",
       "      <td>NaN</td>\n",
       "      <td>NaN</td>\n",
       "      <td>NaN</td>\n",
       "    </tr>\n",
       "    <tr>\n",
       "      <th>min</th>\n",
       "      <td>NaN</td>\n",
       "      <td>21.000000</td>\n",
       "      <td>NaN</td>\n",
       "      <td>NaN</td>\n",
       "      <td>NaN</td>\n",
       "    </tr>\n",
       "    <tr>\n",
       "      <th>25%</th>\n",
       "      <td>NaN</td>\n",
       "      <td>34.000000</td>\n",
       "      <td>NaN</td>\n",
       "      <td>NaN</td>\n",
       "      <td>NaN</td>\n",
       "    </tr>\n",
       "    <tr>\n",
       "      <th>50%</th>\n",
       "      <td>NaN</td>\n",
       "      <td>42.000000</td>\n",
       "      <td>NaN</td>\n",
       "      <td>NaN</td>\n",
       "      <td>NaN</td>\n",
       "    </tr>\n",
       "    <tr>\n",
       "      <th>75%</th>\n",
       "      <td>NaN</td>\n",
       "      <td>52.000000</td>\n",
       "      <td>NaN</td>\n",
       "      <td>NaN</td>\n",
       "      <td>NaN</td>\n",
       "    </tr>\n",
       "    <tr>\n",
       "      <th>max</th>\n",
       "      <td>NaN</td>\n",
       "      <td>66.000000</td>\n",
       "      <td>NaN</td>\n",
       "      <td>NaN</td>\n",
       "      <td>NaN</td>\n",
       "    </tr>\n",
       "  </tbody>\n",
       "</table>\n",
       "</div>"
      ],
      "text/plain": [
       "       gender           age region   city education\n",
       "count   21498  21495.000000  21498  21498     21498\n",
       "unique      3           NaN     29     17         8\n",
       "top         F           NaN    nan    nan       nan\n",
       "freq    11116           NaN   4461  13862     12218\n",
       "mean      NaN     43.097139    NaN    NaN       NaN\n",
       "std       NaN     10.798968    NaN    NaN       NaN\n",
       "min       NaN     21.000000    NaN    NaN       NaN\n",
       "25%       NaN     34.000000    NaN    NaN       NaN\n",
       "50%       NaN     42.000000    NaN    NaN       NaN\n",
       "75%       NaN     52.000000    NaN    NaN       NaN\n",
       "max       NaN     66.000000    NaN    NaN       NaN"
      ]
     },
     "execution_count": 11,
     "metadata": {},
     "output_type": "execute_result"
    }
   ],
   "source": [
    "client_ft.describe(include='all')"
   ]
  },
  {
   "cell_type": "markdown",
   "id": "e81b2664-2bf7-4fad-9197-f91a69a7f834",
   "metadata": {},
   "source": [
    "## Construct transaction features"
   ]
  },
  {
   "cell_type": "code",
   "execution_count": 12,
   "id": "f9455959-a4b8-450b-b76b-22e919f651fb",
   "metadata": {},
   "outputs": [
    {
     "data": {
      "text/plain": [
       "0"
      ]
     },
     "execution_count": 12,
     "metadata": {},
     "output_type": "execute_result"
    }
   ],
   "source": [
    "column_names = ['client_id', 'tran_amt_rur', 'mcc_cd']\n",
    "transaction = pd.read_csv('data/trxn.csv', usecols=column_names)\n",
    "transaction_ft = transaction[column_names]\n",
    "del transaction\n",
    "gc.collect()\n",
    "transaction_ft['mcc_cd'] = transaction_ft['mcc_cd'].astype('str')\n",
    "\n",
    "temp_trs = transaction_ft.groupby(['client_id', 'mcc_cd']).sum().reset_index()\n",
    "transaction_ft = temp_trs.loc[temp_trs.groupby('client_id').tran_amt_rur.idxmax()]\n",
    "transaction_ft = transaction_ft.set_index('client_id')\n",
    "transaction_ft['tran_amt_rur'] = transaction_ft['tran_amt_rur'].fillna('nan')\n",
    "del temp_trs\n",
    "gc.collect()"
   ]
  },
  {
   "cell_type": "markdown",
   "id": "69a0f3aa-7152-4234-83eb-6db866c5403d",
   "metadata": {},
   "source": [
    "## Construct final dataset"
   ]
  },
  {
   "cell_type": "code",
   "execution_count": 20,
   "id": "f4a1bfc5-7d1a-4d5c-a00e-9d4ba256a52d",
   "metadata": {
    "ExecuteTime": {
     "end_time": "2021-04-18T02:04:11.089200Z",
     "start_time": "2021-04-18T02:04:11.063910Z"
    }
   },
   "outputs": [],
   "source": [
    "LABEL_COLS = ['sale_flg', 'sale_amount', 'contacts', 'profit', 'profitable', 'log_profit']\n",
    "CAT_FEATURES = ['gender', 'region', 'city', 'education']\n",
    "\n",
    "labels_all = funnel.set_index('client_id')[LABEL_COLS]\n",
    "full_data = pd.concat([\n",
    "    labels_all,\n",
    "    balance_ft,\n",
    "    aum_ft,\n",
    "    client_ft,\n",
    "    transaction_ft\n",
    "], axis=1)\n",
    "full_data = full_data.fillna({'mcc_cd': 'nan'})"
   ]
  },
  {
   "cell_type": "markdown",
   "id": "8cf1f471-ded4-4b25-ae5f-a715dbda4991",
   "metadata": {},
   "source": [
    "## Split into train, val, test"
   ]
  },
  {
   "cell_type": "code",
   "execution_count": 22,
   "id": "aeb230ab-fa91-49d9-85f4-b09028d34ac5",
   "metadata": {
    "ExecuteTime": {
     "end_time": "2021-04-18T02:04:21.198884Z",
     "start_time": "2021-04-18T02:04:21.087672Z"
    }
   },
   "outputs": [
    {
     "name": "stdout",
     "output_type": "stream",
     "text": [
      "3043.2036976744193\n",
      "2805.0767441860467\n",
      "2501.6929265030817\n"
     ]
    }
   ],
   "source": [
    "train, val, test = train_val_test_split(full_data, [0.8, 0.1, 0.1])\n",
    "\n",
    "train_pool = Pool(\n",
    "    data = train.drop(LABEL_COLS, axis=1),\n",
    "    label = train['log_profit'],\n",
    "    cat_features=CAT_FEATURES\n",
    ")\n",
    "\n",
    "val_pool = Pool(\n",
    "    data = val.drop(LABEL_COLS, axis=1), \n",
    "    label = val['log_profit'],\n",
    "    cat_features=CAT_FEATURES\n",
    ")\n",
    "test_pool = Pool(data = test.drop(LABEL_COLS, axis=1), cat_features=CAT_FEATURES)\n",
    "\n",
    "print(val.profit.mean())\n",
    "print(test.profit.mean())\n",
    "print(train.profit.mean())"
   ]
  },
  {
   "cell_type": "markdown",
   "id": "87fa4bea-8374-4130-855c-8e772c532008",
   "metadata": {},
   "source": [
    "## Construct model"
   ]
  },
  {
   "cell_type": "code",
   "execution_count": 23,
   "id": "3e0e5308-4804-47ec-8bb3-2be350b44027",
   "metadata": {
    "ExecuteTime": {
     "end_time": "2021-04-18T02:04:23.819928Z",
     "start_time": "2021-04-18T02:04:23.817222Z"
    }
   },
   "outputs": [],
   "source": [
    "model = CatBoostRegressor(\n",
    "    iterations=1500,\n",
    "    depth=10,\n",
    "    loss_function='RMSE',\n",
    "    use_best_model=True,\n",
    ")"
   ]
  },
  {
   "cell_type": "markdown",
   "id": "ec1168db-174f-4821-87d5-0209529e652d",
   "metadata": {},
   "source": [
    "## Run training"
   ]
  },
  {
   "cell_type": "code",
   "execution_count": 24,
   "id": "cb597bdf-ff77-4f7f-b9f3-d33b7601e25e",
   "metadata": {
    "ExecuteTime": {
     "end_time": "2021-04-18T02:05:17.724766Z",
     "start_time": "2021-04-18T02:04:24.942790Z"
    }
   },
   "outputs": [
    {
     "name": "stdout",
     "output_type": "stream",
     "text": [
      "Learning rate set to 0.061276\n",
      "0:\tlearn: 2.8642376\ttest: 2.9164430\tbest: 2.9164430 (0)\ttotal: 96.7ms\tremaining: 2m 24s\n",
      "100:\tlearn: 2.0809715\ttest: 2.3812948\tbest: 2.3811589 (98)\ttotal: 4.15s\tremaining: 57.4s\n",
      "200:\tlearn: 1.8510825\ttest: 2.3770350\tbest: 2.3742399 (152)\ttotal: 8.14s\tremaining: 52.6s\n",
      "300:\tlearn: 1.6719610\ttest: 2.3817046\tbest: 2.3742399 (152)\ttotal: 12s\tremaining: 47.9s\n",
      "400:\tlearn: 1.5155425\ttest: 2.3854120\tbest: 2.3742399 (152)\ttotal: 16.1s\tremaining: 44s\n",
      "500:\tlearn: 1.3953115\ttest: 2.3906502\tbest: 2.3742399 (152)\ttotal: 20.2s\tremaining: 40.4s\n",
      "600:\tlearn: 1.2912496\ttest: 2.3920210\tbest: 2.3742399 (152)\ttotal: 24.4s\tremaining: 36.5s\n",
      "700:\tlearn: 1.2167360\ttest: 2.3938130\tbest: 2.3742399 (152)\ttotal: 28.6s\tremaining: 32.6s\n",
      "800:\tlearn: 1.1508024\ttest: 2.3942086\tbest: 2.3742399 (152)\ttotal: 33.9s\tremaining: 29.5s\n",
      "900:\tlearn: 1.0903841\ttest: 2.3951295\tbest: 2.3742399 (152)\ttotal: 38.7s\tremaining: 25.7s\n",
      "1000:\tlearn: 1.0302902\ttest: 2.3988952\tbest: 2.3742399 (152)\ttotal: 43.3s\tremaining: 21.6s\n",
      "1100:\tlearn: 0.9862492\ttest: 2.4017834\tbest: 2.3742399 (152)\ttotal: 48s\tremaining: 17.4s\n",
      "1200:\tlearn: 0.9437596\ttest: 2.4034405\tbest: 2.3742399 (152)\ttotal: 52.7s\tremaining: 13.1s\n",
      "1300:\tlearn: 0.9035214\ttest: 2.4056898\tbest: 2.3742399 (152)\ttotal: 57.3s\tremaining: 8.77s\n",
      "1400:\tlearn: 0.8669575\ttest: 2.4056450\tbest: 2.3742399 (152)\ttotal: 1m 1s\tremaining: 4.38s\n",
      "1499:\tlearn: 0.8316007\ttest: 2.4089064\tbest: 2.3742399 (152)\ttotal: 1m 6s\tremaining: 0us\n",
      "\n",
      "bestTest = 2.374239921\n",
      "bestIteration = 152\n",
      "\n",
      "Shrink model to first 153 iterations.\n"
     ]
    },
    {
     "data": {
      "text/plain": [
       "<catboost.core.CatBoostRegressor at 0x7f9e011599d0>"
      ]
     },
     "execution_count": 24,
     "metadata": {},
     "output_type": "execute_result"
    }
   ],
   "source": [
    "model.fit(train_pool, eval_set=val_pool, verbose=100)"
   ]
  },
  {
   "cell_type": "markdown",
   "id": "66e5dbf6-5b91-415e-a8cc-387cb1b273eb",
   "metadata": {},
   "source": [
    "## Evaluate profitability of solution on val"
   ]
  },
  {
   "cell_type": "code",
   "execution_count": 25,
   "id": "literary-picnic",
   "metadata": {
    "ExecuteTime": {
     "end_time": "2021-04-18T02:05:18.114757Z",
     "start_time": "2021-04-18T02:05:17.727309Z"
    }
   },
   "outputs": [
    {
     "data": {
      "image/png": "[encoded data removed]",
      "text/plain": [
       "<Figure size 432x288 with 1 Axes>"
      ]
     },
     "metadata": {
      "needs_background": "light"
     },
     "output_type": "display_data"
    }
   ],
   "source": [
    "import matplotlib.pyplot as plt\n",
    "plt.hist(model.predict(val_pool), bins=31);"
   ]
  },
  {
   "cell_type": "code",
   "execution_count": 26,
   "id": "d4f6d0bd-f837-487d-86c0-2eb8ad6911d5",
   "metadata": {
    "ExecuteTime": {
     "end_time": "2021-04-18T02:20:17.783435Z",
     "start_time": "2021-04-18T02:20:17.713788Z"
    }
   },
   "outputs": [
    {
     "name": "stdout",
     "output_type": "stream",
     "text": [
      "VAL -3.0 | Baseline profit: 3043.20, model profit: 5779.36\n",
      "VAL -2.9 | Baseline profit: 3043.20, model profit: 5781.53\n",
      "VAL -2.8 | Baseline profit: 3043.20, model profit: 5811.30\n",
      "VAL -2.6999999999999997 | Baseline profit: 3043.20, model profit: 5833.62\n",
      "VAL -2.5999999999999996 | Baseline profit: 3043.20, model profit: 5857.81\n",
      "VAL -2.4999999999999996 | Baseline profit: 3043.20, model profit: 5824.57\n",
      "VAL -2.3999999999999995 | Baseline profit: 3043.20, model profit: 5844.65\n",
      "VAL -2.2999999999999994 | Baseline profit: 3043.20, model profit: 5856.40\n",
      "VAL -2.1999999999999993 | Baseline profit: 3043.20, model profit: 5887.00\n",
      "VAL -2.099999999999999 | Baseline profit: 3043.20, model profit: 5853.12\n",
      "VAL -1.9999999999999991 | Baseline profit: 3043.20, model profit: 5848.49\n",
      "VAL -1.899999999999999 | Baseline profit: 3043.20, model profit: 5765.36\n",
      "VAL -1.799999999999999 | Baseline profit: 3043.20, model profit: 5781.61\n",
      "VAL -1.6999999999999988 | Baseline profit: 3043.20, model profit: 5694.38\n",
      "VAL -1.5999999999999988 | Baseline profit: 3043.20, model profit: 5312.67\n",
      "VAL -1.4999999999999987 | Baseline profit: 3043.20, model profit: 5258.59\n",
      "VAL -1.3999999999999986 | Baseline profit: 3043.20, model profit: 5181.46\n",
      "VAL -1.2999999999999985 | Baseline profit: 3043.20, model profit: 5178.41\n",
      "VAL -1.1999999999999984 | Baseline profit: 3043.20, model profit: 5055.89\n",
      "VAL -1.0999999999999983 | Baseline profit: 3043.20, model profit: 5024.86\n"
     ]
    }
   ],
   "source": [
    "for threshold in np.arange(-3, -1, 0.1):\n",
    "    pred_val = model.predict(val_pool) > threshold\n",
    "    bs_prof_val = val['profit'].mean()\n",
    "\n",
    "    model_prof_val = calculate_profit(val)[pred_val.astype(bool)].sum()\n",
    "    model_prof_val = model_prof_val / len(pred_val)\n",
    "\n",
    "    print(f'VAL {threshold} | Baseline profit: {bs_prof_val:.2f}, model profit: {model_prof_val:.2f}')"
   ]
  },
  {
   "cell_type": "code",
   "execution_count": 27,
   "id": "pretty-preliminary",
   "metadata": {
    "ExecuteTime": {
     "end_time": "2021-04-18T02:20:31.542626Z",
     "start_time": "2021-04-18T02:20:31.539298Z"
    }
   },
   "outputs": [],
   "source": [
    "threshold = -2.2"
   ]
  },
  {
   "cell_type": "markdown",
   "id": "4cca2ab4-57c4-42dd-87cc-aa03846c0131",
   "metadata": {},
   "source": [
    "## Evaluate profitability of solution on test"
   ]
  },
  {
   "cell_type": "code",
   "execution_count": 28,
   "id": "1a5f575b-198b-4506-8ed7-44dae3c9a84b",
   "metadata": {
    "ExecuteTime": {
     "end_time": "2021-04-18T02:20:39.257117Z",
     "start_time": "2021-04-18T02:20:39.246918Z"
    }
   },
   "outputs": [
    {
     "name": "stdout",
     "output_type": "stream",
     "text": [
      "TEST | Baseline profit: 2805.08, model profit: 5442.85\n"
     ]
    }
   ],
   "source": [
    "pred_test = model.predict(test_pool) > threshold\n",
    "bs_prof_test = test['profit'].mean()\n",
    "\n",
    "model_prof_test = calculate_profit(test)[pred_test.astype(bool)].sum()\n",
    "model_prof_test = model_prof_test / len(pred_test)\n",
    "\n",
    "print(f'TEST | Baseline profit: {bs_prof_test:.2f}, model profit: {model_prof_test:.2f}')"
   ]
  },
  {
   "cell_type": "markdown",
   "id": "a2ddb70e-9f1b-4895-9697-a20ae8e006ee",
   "metadata": {},
   "source": [
    "## Notes\n",
    "\n",
    "1. Using just balance  or features, I get below baseline\n",
    "2. Using balance + client features, I get 3074 on test,  3345.24 on val\n",
    "3. Using balance + aum + client fts, I get 2944.95 on test, 3607.06 on val\n",
    "4. Same as prev step - but using regressor, I get crazy 5289 on test, 5792 on val\n",
    "5. Same step as prev, but using signed log on profit + thresholding I get 5906.70 on val, and 5516.17 on test\n",
    "6. Same as prev + transaction features, I get 5887.00 on val, and 5442.85 ont test"
   ]
  },
  {
   "cell_type": "markdown",
   "id": "2fe81dec-6620-43bd-ac1b-1f40bc10ec79",
   "metadata": {},
   "source": [
    "## Save model on FULL data and save it"
   ]
  },
  {
   "cell_type": "code",
   "execution_count": null,
   "id": "87dcd0d3-4c1e-4542-94ee-b04737e61768",
   "metadata": {},
   "outputs": [],
   "source": [
    "model.save_model('models/tadej_model.cbm', 'cbm')"
   ]
  },
  {
   "cell_type": "markdown",
   "id": "4c8c62d5-2bb3-4847-8f63-e0d83a98ac3d",
   "metadata": {},
   "source": [
    "## Test load, data and produce predictions"
   ]
  },
  {
   "cell_type": "code",
   "execution_count": null,
   "id": "e73d2236-73cd-4153-9fc9-b52e29dc4671",
   "metadata": {},
   "outputs": [],
   "source": [
    "# Save data first, as it would be in the build step\n",
    "LABEL_COLS = ['sale_flg', 'sale_amount', 'contacts', 'profit', 'profitable']\n",
    "full_data.drop(LABEL_COLS, axis=1).to_pickle('final_version.pickle')"
   ]
  },
  {
   "cell_type": "code",
   "execution_count": null,
   "id": "3bab80ed-d3e5-42d5-a61c-202c2524ea9f",
   "metadata": {},
   "outputs": [],
   "source": [
    "model = CatBoostRegressor().load_model('models/tadej_model.cbm', 'cbm')\n",
    "data = pd.read_pickle('final_version.pickle')\n",
    "data_pool = Pool(data = data, cat_features=CAT_FEATURES)\n",
    "\n",
    "target = (model.predict(data_pool) > threshold).astype(int)\n",
    "submission = pd.DataFrame({'client_id': data.index, 'target': target})\n",
    "submission.to_csv('submission.csv', index=False)"
   ]
  },
  {
   "cell_type": "code",
   "execution_count": null,
   "id": "b70fed8c-4704-4ef1-b5a6-6fb917996896",
   "metadata": {},
   "outputs": [],
   "source": [
    "pd.read_csv('submission.csv')"
   ]
  },
  {
   "cell_type": "code",
   "execution_count": null,
   "id": "cc319a26-6535-406a-a430-c8310835525f",
   "metadata": {},
   "outputs": [],
   "source": []
  }
 ],
 "metadata": {
  "kernelspec": {
   "display_name": "Python 3",
   "language": "python",
   "name": "python3"
  },
  "language_info": {
   "codemirror_mode": {
    "name": "ipython",
    "version": 3
   },
   "file_extension": ".py",
   "mimetype": "text/x-python",
   "name": "python",
   "nbconvert_exporter": "python",
   "pygments_lexer": "ipython3",
   "version": "3.8.5"
  },
  "toc": {
   "base_numbering": 1,
   "nav_menu": {},
   "number_sections": true,
   "sideBar": true,
   "skip_h1_title": false,
   "title_cell": "Table of Contents",
   "title_sidebar": "Contents",
   "toc_cell": false,
   "toc_position": {},
   "toc_section_display": true,
   "toc_window_display": false
  }
 },
 "nbformat": 4,
 "nbformat_minor": 5
}
