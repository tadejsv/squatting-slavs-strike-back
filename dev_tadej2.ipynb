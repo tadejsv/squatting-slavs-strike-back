{
 "cells": [
  {
   "cell_type": "code",
   "execution_count": 1,
   "id": "40af690f-de13-4a4f-8b4f-4a781b1bd634",
   "metadata": {},
   "outputs": [],
   "source": [
    "import numpy as np\n",
    "import pandas as pd\n",
    "from catboost import CatBoostClassifier, Pool\n",
    "from sklearn.metrics import confusion_matrix\n",
    "\n",
    "from src.utils import calculate_profit, train_val_test_split"
   ]
  },
  {
   "cell_type": "markdown",
   "id": "b175c41a-268b-47ab-8972-8c7428a5601d",
   "metadata": {
    "tags": []
   },
   "source": [
    "## Construct the `profit` and `profitable` variables"
   ]
  },
  {
   "cell_type": "code",
   "execution_count": 2,
   "id": "4f366557-16ce-499e-8bfa-0cfe578bece9",
   "metadata": {},
   "outputs": [],
   "source": [
    "funnel = pd.read_csv('train_data/funnel.csv')\n",
    "funnel['profit'] = calculate_profit(funnel)\n",
    "funnel['profitable'] = (funnel['profit'] > 0).astype(int)\n",
    "\n",
    "train_funnel, val_funnel, test_funnel = train_val_test_split(funnel, (0.8, 0.1, 0.1))"
   ]
  },
  {
   "cell_type": "markdown",
   "id": "c9a47ae4-8581-4203-978f-e8e5617ea68c",
   "metadata": {},
   "source": [
    "## Construct balances\n",
    "\n",
    "I'll try to get last balance, and then difference from last balance for last few months"
   ]
  },
  {
   "cell_type": "code",
   "execution_count": 3,
   "id": "cfee8813-9e21-47a8-bc0a-732eb26048be",
   "metadata": {},
   "outputs": [],
   "source": [
    "balances = pd.read_csv('train_data/balance.csv')"
   ]
  },
  {
   "cell_type": "code",
   "execution_count": 4,
   "id": "25a83a60-7ad8-4325-8bc5-010caac39d34",
   "metadata": {},
   "outputs": [],
   "source": [
    "# Sum up across all accounts\n",
    "account_sums = balances.groupby(['client_id', 'month_end_dt'])[['avg_bal_sum_rur', 'max_bal_sum_rur', 'min_bal_sum_rur']].sum()\n",
    "\n",
    "# Get average range (max - min) for all clients\n",
    "account_sums['range'] = account_sums['max_bal_sum_rur'] - account_sums['min_bal_sum_rur']\n",
    "avg_range = account_sums['range'].mean(level='client_id', skipna=True)\n",
    "\n",
    "# Get the average amount in the last month\n",
    "last_month_avg = account_sums.iloc[account_sums.index.get_level_values('month_end_dt') == '2019-08-31']\n",
    "last_month_avg = last_month_avg['avg_bal_sum_rur']\n",
    "last_month_avg.index = last_month_avg.index.droplevel('month_end_dt')\n",
    "\n",
    "# Get differences from the average in the last month\n",
    "account_sums['diff_last_month'] = account_sums['avg_bal_sum_rur'] - last_month_avg\n",
    "diffs = account_sums['diff_last_month'].reset_index().query('month_end_dt != \"2019-08-31\"')\n",
    "diffs = diffs.pivot(index='client_id', columns='month_end_dt')\n",
    "\n",
    "# Put together all balance features\n",
    "diffs.columns = [f'balance_diff_{c[1]}' for c in diffs.columns]\n",
    "balance_ft = diffs\n",
    "balance_ft['avg_range'] = avg_range\n",
    "balance_ft['last_month_avg'] = last_month_avg"
   ]
  },
  {
   "cell_type": "code",
   "execution_count": 5,
   "id": "70438c6c-c3b5-4f91-b3ef-7eb15d9bb958",
   "metadata": {},
   "outputs": [
    {
     "data": {
      "text/html": [
       "<div>\n",
       "<style scoped>\n",
       "    .dataframe tbody tr th:only-of-type {\n",
       "        vertical-align: middle;\n",
       "    }\n",
       "\n",
       "    .dataframe tbody tr th {\n",
       "        vertical-align: top;\n",
       "    }\n",
       "\n",
       "    .dataframe thead th {\n",
       "        text-align: right;\n",
       "    }\n",
       "</style>\n",
       "<table border=\"1\" class=\"dataframe\">\n",
       "  <thead>\n",
       "    <tr style=\"text-align: right;\">\n",
       "      <th></th>\n",
       "      <th>balance_diff_2018-09-30</th>\n",
       "      <th>balance_diff_2018-10-31</th>\n",
       "      <th>balance_diff_2018-11-30</th>\n",
       "      <th>balance_diff_2018-12-31</th>\n",
       "      <th>balance_diff_2019-01-31</th>\n",
       "      <th>balance_diff_2019-02-28</th>\n",
       "      <th>balance_diff_2019-03-31</th>\n",
       "      <th>balance_diff_2019-04-30</th>\n",
       "      <th>balance_diff_2019-05-31</th>\n",
       "      <th>balance_diff_2019-06-30</th>\n",
       "      <th>balance_diff_2019-07-31</th>\n",
       "      <th>avg_range</th>\n",
       "      <th>last_month_avg</th>\n",
       "    </tr>\n",
       "  </thead>\n",
       "  <tbody>\n",
       "    <tr>\n",
       "      <th>count</th>\n",
       "      <td>16455.000000</td>\n",
       "      <td>16710.000000</td>\n",
       "      <td>17056.000000</td>\n",
       "      <td>17412.000000</td>\n",
       "      <td>17633.000000</td>\n",
       "      <td>17942.000000</td>\n",
       "      <td>18271.000000</td>\n",
       "      <td>18423.000000</td>\n",
       "      <td>18582.000000</td>\n",
       "      <td>18605.000000</td>\n",
       "      <td>18618.000000</td>\n",
       "      <td>18619.000000</td>\n",
       "      <td>18619.000000</td>\n",
       "    </tr>\n",
       "    <tr>\n",
       "      <th>mean</th>\n",
       "      <td>87.988210</td>\n",
       "      <td>51.673190</td>\n",
       "      <td>46.710483</td>\n",
       "      <td>33.441822</td>\n",
       "      <td>17.955481</td>\n",
       "      <td>10.769981</td>\n",
       "      <td>4.449948</td>\n",
       "      <td>8.166042</td>\n",
       "      <td>5.379130</td>\n",
       "      <td>6.465090</td>\n",
       "      <td>4.418520</td>\n",
       "      <td>52.000720</td>\n",
       "      <td>-90.814759</td>\n",
       "    </tr>\n",
       "    <tr>\n",
       "      <th>std</th>\n",
       "      <td>1884.751453</td>\n",
       "      <td>1181.022633</td>\n",
       "      <td>1157.721772</td>\n",
       "      <td>950.131726</td>\n",
       "      <td>553.243603</td>\n",
       "      <td>547.045252</td>\n",
       "      <td>498.944701</td>\n",
       "      <td>476.696726</td>\n",
       "      <td>352.540639</td>\n",
       "      <td>324.753785</td>\n",
       "      <td>262.595122</td>\n",
       "      <td>172.862765</td>\n",
       "      <td>934.295467</td>\n",
       "    </tr>\n",
       "    <tr>\n",
       "      <th>min</th>\n",
       "      <td>-38052.000000</td>\n",
       "      <td>-25178.000000</td>\n",
       "      <td>-24428.000000</td>\n",
       "      <td>-23909.000000</td>\n",
       "      <td>-23319.000000</td>\n",
       "      <td>-22554.000000</td>\n",
       "      <td>-21500.000000</td>\n",
       "      <td>-21311.000000</td>\n",
       "      <td>-21300.000000</td>\n",
       "      <td>-21454.000000</td>\n",
       "      <td>-20211.000000</td>\n",
       "      <td>0.000000</td>\n",
       "      <td>-31173.000000</td>\n",
       "    </tr>\n",
       "    <tr>\n",
       "      <th>25%</th>\n",
       "      <td>-5.000000</td>\n",
       "      <td>-7.000000</td>\n",
       "      <td>-8.000000</td>\n",
       "      <td>-8.000000</td>\n",
       "      <td>-10.000000</td>\n",
       "      <td>-11.000000</td>\n",
       "      <td>-13.000000</td>\n",
       "      <td>-10.000000</td>\n",
       "      <td>-8.000000</td>\n",
       "      <td>-5.000000</td>\n",
       "      <td>-2.000000</td>\n",
       "      <td>0.000000</td>\n",
       "      <td>0.000000</td>\n",
       "    </tr>\n",
       "    <tr>\n",
       "      <th>50%</th>\n",
       "      <td>0.000000</td>\n",
       "      <td>0.000000</td>\n",
       "      <td>0.000000</td>\n",
       "      <td>0.000000</td>\n",
       "      <td>0.000000</td>\n",
       "      <td>0.000000</td>\n",
       "      <td>0.000000</td>\n",
       "      <td>0.000000</td>\n",
       "      <td>0.000000</td>\n",
       "      <td>0.000000</td>\n",
       "      <td>0.000000</td>\n",
       "      <td>10.833333</td>\n",
       "      <td>0.000000</td>\n",
       "    </tr>\n",
       "    <tr>\n",
       "      <th>75%</th>\n",
       "      <td>1.000000</td>\n",
       "      <td>0.000000</td>\n",
       "      <td>0.000000</td>\n",
       "      <td>0.000000</td>\n",
       "      <td>0.000000</td>\n",
       "      <td>0.000000</td>\n",
       "      <td>0.000000</td>\n",
       "      <td>0.000000</td>\n",
       "      <td>0.000000</td>\n",
       "      <td>0.000000</td>\n",
       "      <td>0.000000</td>\n",
       "      <td>50.833333</td>\n",
       "      <td>7.000000</td>\n",
       "    </tr>\n",
       "    <tr>\n",
       "      <th>max</th>\n",
       "      <td>108444.000000</td>\n",
       "      <td>77117.000000</td>\n",
       "      <td>77565.000000</td>\n",
       "      <td>76899.000000</td>\n",
       "      <td>11144.000000</td>\n",
       "      <td>13059.000000</td>\n",
       "      <td>12013.000000</td>\n",
       "      <td>22115.000000</td>\n",
       "      <td>11144.000000</td>\n",
       "      <td>11144.000000</td>\n",
       "      <td>5795.000000</td>\n",
       "      <td>7792.083333</td>\n",
       "      <td>38052.000000</td>\n",
       "    </tr>\n",
       "  </tbody>\n",
       "</table>\n",
       "</div>"
      ],
      "text/plain": [
       "       balance_diff_2018-09-30  balance_diff_2018-10-31  \\\n",
       "count             16455.000000             16710.000000   \n",
       "mean                 87.988210                51.673190   \n",
       "std                1884.751453              1181.022633   \n",
       "min              -38052.000000            -25178.000000   \n",
       "25%                  -5.000000                -7.000000   \n",
       "50%                   0.000000                 0.000000   \n",
       "75%                   1.000000                 0.000000   \n",
       "max              108444.000000             77117.000000   \n",
       "\n",
       "       balance_diff_2018-11-30  balance_diff_2018-12-31  \\\n",
       "count             17056.000000             17412.000000   \n",
       "mean                 46.710483                33.441822   \n",
       "std                1157.721772               950.131726   \n",
       "min              -24428.000000            -23909.000000   \n",
       "25%                  -8.000000                -8.000000   \n",
       "50%                   0.000000                 0.000000   \n",
       "75%                   0.000000                 0.000000   \n",
       "max               77565.000000             76899.000000   \n",
       "\n",
       "       balance_diff_2019-01-31  balance_diff_2019-02-28  \\\n",
       "count             17633.000000             17942.000000   \n",
       "mean                 17.955481                10.769981   \n",
       "std                 553.243603               547.045252   \n",
       "min              -23319.000000            -22554.000000   \n",
       "25%                 -10.000000               -11.000000   \n",
       "50%                   0.000000                 0.000000   \n",
       "75%                   0.000000                 0.000000   \n",
       "max               11144.000000             13059.000000   \n",
       "\n",
       "       balance_diff_2019-03-31  balance_diff_2019-04-30  \\\n",
       "count             18271.000000             18423.000000   \n",
       "mean                  4.449948                 8.166042   \n",
       "std                 498.944701               476.696726   \n",
       "min              -21500.000000            -21311.000000   \n",
       "25%                 -13.000000               -10.000000   \n",
       "50%                   0.000000                 0.000000   \n",
       "75%                   0.000000                 0.000000   \n",
       "max               12013.000000             22115.000000   \n",
       "\n",
       "       balance_diff_2019-05-31  balance_diff_2019-06-30  \\\n",
       "count             18582.000000             18605.000000   \n",
       "mean                  5.379130                 6.465090   \n",
       "std                 352.540639               324.753785   \n",
       "min              -21300.000000            -21454.000000   \n",
       "25%                  -8.000000                -5.000000   \n",
       "50%                   0.000000                 0.000000   \n",
       "75%                   0.000000                 0.000000   \n",
       "max               11144.000000             11144.000000   \n",
       "\n",
       "       balance_diff_2019-07-31     avg_range  last_month_avg  \n",
       "count             18618.000000  18619.000000    18619.000000  \n",
       "mean                  4.418520     52.000720      -90.814759  \n",
       "std                 262.595122    172.862765      934.295467  \n",
       "min              -20211.000000      0.000000   -31173.000000  \n",
       "25%                  -2.000000      0.000000        0.000000  \n",
       "50%                   0.000000     10.833333        0.000000  \n",
       "75%                   0.000000     50.833333        7.000000  \n",
       "max                5795.000000   7792.083333    38052.000000  "
      ]
     },
     "execution_count": 5,
     "metadata": {},
     "output_type": "execute_result"
    }
   ],
   "source": [
    "balance_ft.describe()"
   ]
  },
  {
   "cell_type": "markdown",
   "id": "f9a8be71-b005-4d50-a8f9-d36a01ad48a8",
   "metadata": {},
   "source": [
    "## Construct client dataset"
   ]
  },
  {
   "cell_type": "code",
   "execution_count": 6,
   "id": "be4c6cf3-c06a-447c-bb68-d1092c5efb62",
   "metadata": {},
   "outputs": [],
   "source": [
    "client = pd.read_csv('train_data/client.csv')"
   ]
  },
  {
   "cell_type": "code",
   "execution_count": 7,
   "id": "bb07935b-13ce-4e1b-abfb-ce6c07220427",
   "metadata": {},
   "outputs": [],
   "source": [
    "# Take out citizenship and job_type, they are useless\n",
    "client_ft = client.set_index('client_id')[['gender', 'age', 'region', 'city', 'education']]\n",
    "\n",
    "# Filter out cities and region to only those above 200, make them categorical (not numerical)\n",
    "region_counts = client_ft['region'].value_counts(dropna=False)\n",
    "top_regions = region_counts[region_counts > 200].index\n",
    "\n",
    "city_counts = client_ft['city'].value_counts(dropna=False)\n",
    "top_cities = city_counts[city_counts > 200].index\n",
    "\n",
    "client_ft.loc[~ client_ft['city'].isin(top_cities), 'city'] = None\n",
    "client_ft.loc[~ client_ft['region'].isin(top_regions), 'region'] = None\n",
    "\n",
    "client_ft['city'] = client_ft['city'].astype('str')\n",
    "client_ft['region'] = client_ft['region'].astype('str')\n",
    "\n",
    "client_ft[['gender', 'education']] = client_ft[['gender', 'education']].fillna('nan')"
   ]
  },
  {
   "cell_type": "code",
   "execution_count": 8,
   "id": "8d29af93-8aae-4db2-9713-527dbfdf146d",
   "metadata": {},
   "outputs": [
    {
     "data": {
      "text/html": [
       "<div>\n",
       "<style scoped>\n",
       "    .dataframe tbody tr th:only-of-type {\n",
       "        vertical-align: middle;\n",
       "    }\n",
       "\n",
       "    .dataframe tbody tr th {\n",
       "        vertical-align: top;\n",
       "    }\n",
       "\n",
       "    .dataframe thead th {\n",
       "        text-align: right;\n",
       "    }\n",
       "</style>\n",
       "<table border=\"1\" class=\"dataframe\">\n",
       "  <thead>\n",
       "    <tr style=\"text-align: right;\">\n",
       "      <th></th>\n",
       "      <th>gender</th>\n",
       "      <th>age</th>\n",
       "      <th>region</th>\n",
       "      <th>city</th>\n",
       "      <th>education</th>\n",
       "    </tr>\n",
       "  </thead>\n",
       "  <tbody>\n",
       "    <tr>\n",
       "      <th>count</th>\n",
       "      <td>21498</td>\n",
       "      <td>21495.000000</td>\n",
       "      <td>21498</td>\n",
       "      <td>21498</td>\n",
       "      <td>21498</td>\n",
       "    </tr>\n",
       "    <tr>\n",
       "      <th>unique</th>\n",
       "      <td>3</td>\n",
       "      <td>NaN</td>\n",
       "      <td>29</td>\n",
       "      <td>17</td>\n",
       "      <td>8</td>\n",
       "    </tr>\n",
       "    <tr>\n",
       "      <th>top</th>\n",
       "      <td>F</td>\n",
       "      <td>NaN</td>\n",
       "      <td>nan</td>\n",
       "      <td>nan</td>\n",
       "      <td>nan</td>\n",
       "    </tr>\n",
       "    <tr>\n",
       "      <th>freq</th>\n",
       "      <td>11116</td>\n",
       "      <td>NaN</td>\n",
       "      <td>4461</td>\n",
       "      <td>13862</td>\n",
       "      <td>12218</td>\n",
       "    </tr>\n",
       "    <tr>\n",
       "      <th>mean</th>\n",
       "      <td>NaN</td>\n",
       "      <td>43.097139</td>\n",
       "      <td>NaN</td>\n",
       "      <td>NaN</td>\n",
       "      <td>NaN</td>\n",
       "    </tr>\n",
       "    <tr>\n",
       "      <th>std</th>\n",
       "      <td>NaN</td>\n",
       "      <td>10.798968</td>\n",
       "      <td>NaN</td>\n",
       "      <td>NaN</td>\n",
       "      <td>NaN</td>\n",
       "    </tr>\n",
       "    <tr>\n",
       "      <th>min</th>\n",
       "      <td>NaN</td>\n",
       "      <td>21.000000</td>\n",
       "      <td>NaN</td>\n",
       "      <td>NaN</td>\n",
       "      <td>NaN</td>\n",
       "    </tr>\n",
       "    <tr>\n",
       "      <th>25%</th>\n",
       "      <td>NaN</td>\n",
       "      <td>34.000000</td>\n",
       "      <td>NaN</td>\n",
       "      <td>NaN</td>\n",
       "      <td>NaN</td>\n",
       "    </tr>\n",
       "    <tr>\n",
       "      <th>50%</th>\n",
       "      <td>NaN</td>\n",
       "      <td>42.000000</td>\n",
       "      <td>NaN</td>\n",
       "      <td>NaN</td>\n",
       "      <td>NaN</td>\n",
       "    </tr>\n",
       "    <tr>\n",
       "      <th>75%</th>\n",
       "      <td>NaN</td>\n",
       "      <td>52.000000</td>\n",
       "      <td>NaN</td>\n",
       "      <td>NaN</td>\n",
       "      <td>NaN</td>\n",
       "    </tr>\n",
       "    <tr>\n",
       "      <th>max</th>\n",
       "      <td>NaN</td>\n",
       "      <td>66.000000</td>\n",
       "      <td>NaN</td>\n",
       "      <td>NaN</td>\n",
       "      <td>NaN</td>\n",
       "    </tr>\n",
       "  </tbody>\n",
       "</table>\n",
       "</div>"
      ],
      "text/plain": [
       "       gender           age region   city education\n",
       "count   21498  21495.000000  21498  21498     21498\n",
       "unique      3           NaN     29     17         8\n",
       "top         F           NaN    nan    nan       nan\n",
       "freq    11116           NaN   4461  13862     12218\n",
       "mean      NaN     43.097139    NaN    NaN       NaN\n",
       "std       NaN     10.798968    NaN    NaN       NaN\n",
       "min       NaN     21.000000    NaN    NaN       NaN\n",
       "25%       NaN     34.000000    NaN    NaN       NaN\n",
       "50%       NaN     42.000000    NaN    NaN       NaN\n",
       "75%       NaN     52.000000    NaN    NaN       NaN\n",
       "max       NaN     66.000000    NaN    NaN       NaN"
      ]
     },
     "execution_count": 8,
     "metadata": {},
     "output_type": "execute_result"
    }
   ],
   "source": [
    "client_ft.describe(include='all')"
   ]
  },
  {
   "cell_type": "markdown",
   "id": "69a0f3aa-7152-4234-83eb-6db866c5403d",
   "metadata": {},
   "source": [
    "## Construct final dataset"
   ]
  },
  {
   "cell_type": "code",
   "execution_count": 9,
   "id": "f4a1bfc5-7d1a-4d5c-a00e-9d4ba256a52d",
   "metadata": {},
   "outputs": [],
   "source": [
    "LABEL_COLS = ['sale_flg', 'sale_amount', 'contacts', 'profit', 'profitable']\n",
    "CAT_FEATURES = ['gender', 'region', 'city', 'education']\n",
    "# CAT_FEATURES = None\n",
    "\n",
    "labels_all = funnel.set_index('client_id')[LABEL_COLS]\n",
    "full_data = pd.concat([\n",
    "    labels_all,\n",
    "    balance_ft,\n",
    "    client_ft\n",
    "], axis=1)"
   ]
  },
  {
   "cell_type": "markdown",
   "id": "8cf1f471-ded4-4b25-ae5f-a715dbda4991",
   "metadata": {},
   "source": [
    "## Split into train, val, test"
   ]
  },
  {
   "cell_type": "code",
   "execution_count": 10,
   "id": "aeb230ab-fa91-49d9-85f4-b09028d34ac5",
   "metadata": {},
   "outputs": [
    {
     "name": "stdout",
     "output_type": "stream",
     "text": [
      "3043.2036976744193\n",
      "2805.0767441860467\n",
      "2501.6929265030817\n"
     ]
    }
   ],
   "source": [
    "train, val, test = train_val_test_split(full_data, [0.8, 0.1, 0.1])\n",
    "\n",
    "train_pool = Pool(\n",
    "    data = train.drop(LABEL_COLS, axis=1),\n",
    "    label = train['profitable'],\n",
    "    cat_features=CAT_FEATURES\n",
    ")\n",
    "\n",
    "val_pool = Pool(data = val.drop(LABEL_COLS, axis=1), cat_features=CAT_FEATURES)\n",
    "test_pool = Pool(data = test.drop(LABEL_COLS, axis=1), cat_features=CAT_FEATURES)\n",
    "\n",
    "print(val.profit.mean())\n",
    "print(test.profit.mean())\n",
    "print(train.profit.mean())"
   ]
  },
  {
   "cell_type": "markdown",
   "id": "87fa4bea-8374-4130-855c-8e772c532008",
   "metadata": {},
   "source": [
    "## Construct model"
   ]
  },
  {
   "cell_type": "code",
   "execution_count": 11,
   "id": "3e0e5308-4804-47ec-8bb3-2be350b44027",
   "metadata": {},
   "outputs": [],
   "source": [
    "model = CatBoostClassifier(\n",
    "    iterations=1000,\n",
    "    depth=10,\n",
    "    loss_function='Logloss',\n",
    "    custom_metric=['Accuracy'],\n",
    ")"
   ]
  },
  {
   "cell_type": "markdown",
   "id": "ec1168db-174f-4821-87d5-0209529e652d",
   "metadata": {},
   "source": [
    "## Run training"
   ]
  },
  {
   "cell_type": "code",
   "execution_count": 12,
   "id": "cb597bdf-ff77-4f7f-b9f3-d33b7601e25e",
   "metadata": {},
   "outputs": [
    {
     "name": "stdout",
     "output_type": "stream",
     "text": [
      "Learning rate set to 0.034712\n",
      "0:\tlearn: 0.6247783\ttotal: 109ms\tremaining: 1m 48s\n",
      "100:\tlearn: 0.2226168\ttotal: 4.61s\tremaining: 41s\n",
      "200:\tlearn: 0.1981822\ttotal: 8.75s\tremaining: 34.8s\n",
      "300:\tlearn: 0.1781326\ttotal: 13.7s\tremaining: 31.9s\n",
      "400:\tlearn: 0.1564655\ttotal: 19.3s\tremaining: 28.8s\n",
      "500:\tlearn: 0.1403387\ttotal: 24.1s\tremaining: 24s\n",
      "600:\tlearn: 0.1271550\ttotal: 29.7s\tremaining: 19.7s\n",
      "700:\tlearn: 0.1153494\ttotal: 35.3s\tremaining: 15.1s\n",
      "800:\tlearn: 0.1046949\ttotal: 40.9s\tremaining: 10.2s\n",
      "900:\tlearn: 0.0955748\ttotal: 47.7s\tremaining: 5.24s\n",
      "999:\tlearn: 0.0876616\ttotal: 53.7s\tremaining: 0us\n"
     ]
    },
    {
     "data": {
      "text/plain": [
       "<catboost.core.CatBoostClassifier at 0x7f1e01c1a280>"
      ]
     },
     "execution_count": 12,
     "metadata": {},
     "output_type": "execute_result"
    }
   ],
   "source": [
    "model.fit(train_pool, verbose=100)"
   ]
  },
  {
   "cell_type": "markdown",
   "id": "66e5dbf6-5b91-415e-a8cc-387cb1b273eb",
   "metadata": {},
   "source": [
    "## Evaluate profitability of solution on val"
   ]
  },
  {
   "cell_type": "code",
   "execution_count": 13,
   "id": "d4f6d0bd-f837-487d-86c0-2eb8ad6911d5",
   "metadata": {},
   "outputs": [
    {
     "name": "stdout",
     "output_type": "stream",
     "text": [
      "VAL | Baseline profit: 3043.20, model profit: 3345.24\n"
     ]
    }
   ],
   "source": [
    "pred_val = model.predict(val_pool)\n",
    "bs_prof_val = val['profit'].mean()\n",
    "\n",
    "model_prof_val = calculate_profit(val)[pred_val.astype(bool)].sum()\n",
    "model_prof_val = model_prof_val / len(pred_val)\n",
    "\n",
    "print(f'VAL | Baseline profit: {bs_prof_val:.2f}, model profit: {model_prof_val:.2f}')"
   ]
  },
  {
   "cell_type": "markdown",
   "id": "4cca2ab4-57c4-42dd-87cc-aa03846c0131",
   "metadata": {},
   "source": [
    "## Evaluate profitability of solution on test"
   ]
  },
  {
   "cell_type": "code",
   "execution_count": 14,
   "id": "1a5f575b-198b-4506-8ed7-44dae3c9a84b",
   "metadata": {},
   "outputs": [
    {
     "name": "stdout",
     "output_type": "stream",
     "text": [
      "TEST | Baseline profit: 2805.08, model profit: 3074.36\n"
     ]
    }
   ],
   "source": [
    "pred_test = model.predict(test_pool)\n",
    "bs_prof_test = test['profit'].mean()\n",
    "\n",
    "model_prof_test = calculate_profit(test)[pred_test.astype(bool)].sum()\n",
    "model_prof_test = model_prof_test / len(pred_test)\n",
    "\n",
    "print(f'TEST | Baseline profit: {bs_prof_test:.2f}, model profit: {model_prof_test:.2f}')"
   ]
  },
  {
   "cell_type": "markdown",
   "id": "a2ddb70e-9f1b-4895-9697-a20ae8e006ee",
   "metadata": {},
   "source": [
    "## Notes\n",
    "\n",
    "1. Using just balance  or features, I get below baseline\n",
    "2. Using balance + client features, I get 3074 on test"
   ]
  },
  {
   "cell_type": "markdown",
   "id": "2fe81dec-6620-43bd-ac1b-1f40bc10ec79",
   "metadata": {},
   "source": [
    "## Train model on FULL data and save it"
   ]
  },
  {
   "cell_type": "code",
   "execution_count": null,
   "id": "87dcd0d3-4c1e-4542-94ee-b04737e61768",
   "metadata": {},
   "outputs": [
    {
     "name": "stdout",
     "output_type": "stream",
     "text": [
      "Learning rate set to 0.038183\n",
      "0:\tlearn: 0.6212372\ttotal: 51.3ms\tremaining: 51.2s\n",
      "100:\tlearn: 0.2266535\ttotal: 6.5s\tremaining: 57.9s\n",
      "200:\tlearn: 0.2037682\ttotal: 12.8s\tremaining: 50.8s\n",
      "300:\tlearn: 0.1828418\ttotal: 18.6s\tremaining: 43.3s\n",
      "400:\tlearn: 0.1609730\ttotal: 24.6s\tremaining: 36.8s\n",
      "500:\tlearn: 0.1458257\ttotal: 31.1s\tremaining: 31s\n",
      "600:\tlearn: 0.1313589\ttotal: 37.3s\tremaining: 24.8s\n",
      "700:\tlearn: 0.1190135\ttotal: 43.4s\tremaining: 18.5s\n",
      "800:\tlearn: 0.1084753\ttotal: 50.7s\tremaining: 12.6s\n",
      "900:\tlearn: 0.1001874\ttotal: 57.1s\tremaining: 6.27s\n"
     ]
    }
   ],
   "source": [
    "LABEL_COLS = ['sale_flg', 'sale_amount', 'contacts', 'profit', 'profitable']\n",
    "CAT_FEATURES = ['gender', 'region', 'city', 'education']\n",
    "\n",
    "labels_all = funnel.set_index('client_id')[LABEL_COLS]\n",
    "full_data = pd.concat([\n",
    "    labels_all,\n",
    "    balance_ft,\n",
    "    client_ft\n",
    "], axis=1)\n",
    "\n",
    "data_pool = Pool(\n",
    "    data = full_data.drop(LABEL_COLS, axis=1),\n",
    "    label = full_data['profitable'],\n",
    "    cat_features=CAT_FEATURES\n",
    ")\n",
    "\n",
    "model.fit(data_pool, verbose=100)\n",
    "model.save_model('models/tadej_model.cbm', 'cbm')"
   ]
  },
  {
   "cell_type": "markdown",
   "id": "4c8c62d5-2bb3-4847-8f63-e0d83a98ac3d",
   "metadata": {},
   "source": [
    "## Test load, data and produce predictions"
   ]
  },
  {
   "cell_type": "code",
   "execution_count": null,
   "id": "e73d2236-73cd-4153-9fc9-b52e29dc4671",
   "metadata": {},
   "outputs": [],
   "source": [
    "# Save data first, as it would be in the build step\n",
    "LABEL_COLS = ['sale_flg', 'sale_amount', 'contacts', 'profit', 'profitable']\n",
    "full_data.drop(LABEL_COLS, axis=1).to_pickle('final_version.pickle')"
   ]
  },
  {
   "cell_type": "code",
   "execution_count": null,
   "id": "3bab80ed-d3e5-42d5-a61c-202c2524ea9f",
   "metadata": {},
   "outputs": [],
   "source": [
    "model = CatBoostClassifier().load_model('models/tadej_model.cbm', 'cbm')\n",
    "data = pd.read_pickle('final_version.pickle')\n",
    "data_pool = Pool(data = data, cat_features=CAT_FEATURES)\n",
    "\n",
    "target = model.predict(data_pool)\n",
    "submission = pd.DataFrame({'client_id': data.index, 'target': target})\n",
    "submission.to_csv('submission.csv', index=False)"
   ]
  },
  {
   "cell_type": "code",
   "execution_count": null,
   "id": "b70fed8c-4704-4ef1-b5a6-6fb917996896",
   "metadata": {},
   "outputs": [],
   "source": [
    "pd.read_csv('submission.csv')"
   ]
  }
 ],
 "metadata": {
  "kernelspec": {
   "display_name": "Python 3",
   "language": "python",
   "name": "python3"
  },
  "language_info": {
   "codemirror_mode": {
    "name": "ipython",
    "version": 3
   },
   "file_extension": ".py",
   "mimetype": "text/x-python",
   "name": "python",
   "nbconvert_exporter": "python",
   "pygments_lexer": "ipython3",
   "version": "3.8.5"
  }
 },
 "nbformat": 4,
 "nbformat_minor": 5
}
