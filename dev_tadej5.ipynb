{
 "cells": [
  {
   "cell_type": "code",
   "execution_count": 1,
   "id": "40af690f-de13-4a4f-8b4f-4a781b1bd634",
   "metadata": {
    "ExecuteTime": {
     "end_time": "2021-04-18T02:04:01.154627Z",
     "start_time": "2021-04-18T02:04:00.655466Z"
    }
   },
   "outputs": [],
   "source": [
    "import gc\n",
    "\n",
    "import numpy as np\n",
    "import pandas as pd\n",
    "from pandas.tseries.offsets import MonthEnd\n",
    "from catboost import CatBoostRegressor, Pool\n",
    "from sklearn.metrics import confusion_matrix\n",
    "\n",
    "from src.utils import calculate_profit, train_val_test_split, signed_log10_1p, ProfitMetric"
   ]
  },
  {
   "cell_type": "markdown",
   "id": "b175c41a-268b-47ab-8972-8c7428a5601d",
   "metadata": {
    "tags": []
   },
   "source": [
    "## Construct the `profit` and `profitable` variables"
   ]
  },
  {
   "cell_type": "code",
   "execution_count": 2,
   "id": "4f366557-16ce-499e-8bfa-0cfe578bece9",
   "metadata": {
    "ExecuteTime": {
     "end_time": "2021-04-18T02:04:03.790928Z",
     "start_time": "2021-04-18T02:04:03.718276Z"
    }
   },
   "outputs": [],
   "source": [
    "funnel = pd.read_csv('train_data/funnel.csv')\n",
    "funnel['profit'] = calculate_profit(funnel)\n",
    "funnel['log_profit'] = funnel['profit'].apply(signed_log10_1p)\n",
    "funnel['profitable'] = (funnel['profit'] > 0).astype(int)"
   ]
  },
  {
   "cell_type": "markdown",
   "id": "54936242-492f-4ab6-a940-cc6e51747202",
   "metadata": {},
   "source": [
    "## Prepare quarters for grouping"
   ]
  },
  {
   "cell_type": "code",
   "execution_count": 3,
   "id": "6a6a2e19-62ea-4d15-8c80-41b991629b66",
   "metadata": {},
   "outputs": [],
   "source": [
    "months_to_quarters = {\n",
    "    '2018-09-30': 'Q1',\n",
    "    '2018-10-31': 'Q1',\n",
    "    '2018-11-30': 'Q1',\n",
    "    '2018-12-31': 'Q2',\n",
    "    '2019-01-31': 'Q2',\n",
    "    '2019-02-28': 'Q2',\n",
    "    '2019-03-31': 'Q3',\n",
    "    '2019-04-30': 'Q3',\n",
    "    '2019-05-31': 'Q3',\n",
    "    '2019-06-30': 'Q4',\n",
    "    '2019-07-31': 'Q4',\n",
    "    '2019-08-31': 'Q4',\n",
    "    '2019-09-30': 'Q4'\n",
    "}"
   ]
  },
  {
   "cell_type": "markdown",
   "id": "c9a47ae4-8581-4203-978f-e8e5617ea68c",
   "metadata": {},
   "source": [
    "## Construct balances\n"
   ]
  },
  {
   "cell_type": "code",
   "execution_count": 4,
   "id": "deb3174f-4bdf-48ad-88ec-b15bcc53c229",
   "metadata": {
    "ExecuteTime": {
     "end_time": "2021-04-18T02:04:05.630803Z",
     "start_time": "2021-04-18T02:04:05.195852Z"
    }
   },
   "outputs": [],
   "source": [
    "balances = pd.read_csv('train_data/balance.csv')\n",
    "balances['quarter'] = balances['month_end_dt'].replace(months_to_quarters)\n",
    "\n",
    "# Sum up across all accounts by month\n",
    "account_sums = balances.groupby(['client_id', 'month_end_dt'])[['avg_bal_sum_rur', 'max_bal_sum_rur', 'min_bal_sum_rur']].sum()\n",
    "\n",
    "# Get average range (max - min) for all clients\n",
    "account_sums['range'] = account_sums['max_bal_sum_rur'] - account_sums['min_bal_sum_rur']\n",
    "avg_range = account_sums['range'].mean(level='client_id', skipna=True)\n",
    "\n",
    "# Get the average amount in the last month\n",
    "balance_last = account_sums.iloc[account_sums.index.get_level_values('month_end_dt') == '2019-08-31']\n",
    "balance_last = balance_last['avg_bal_sum_rur']\n",
    "balance_last.index = balance_last.index.droplevel('month_end_dt')\n",
    "all_avg = account_sums['avg_bal_sum_rur'].mean(level=0)\n",
    "\n",
    "# Get mean avg by quarters\n",
    "bal_mean_q = balances.groupby(['client_id', 'quarter'])['avg_bal_sum_rur'].mean()\n",
    "\n",
    "m3 = bal_mean_q[bal_mean_q.index.get_level_values('quarter') == 'Q4'].droplevel(1)\n",
    "m6 = bal_mean_q[bal_mean_q.index.get_level_values('quarter').isin(['Q4', 'Q3'])].mean(level=0)\n",
    "m12 = bal_mean_q.mean(level=0)\n",
    "\n",
    "balance_ft = pd.DataFrame({\n",
    "    'balance_range': avg_range,\n",
    "    'balance_last_avg': balance_last,\n",
    "    'balance_m3': m3,\n",
    "    'balance_all_avg': all_avg,\n",
    "    'balance_rel_range': avg_range / all_avg,\n",
    "    'balance_diff_m3': balance_last - m3,\n",
    "    'balance_diff_m6': balance_last - m6,\n",
    "    'balance_diff_m3_m6': m3 - m6,\n",
    "    'balance_diff_m3_m12': m3 - m12,\n",
    "    'balance_diff_m3_rel': (balance_last - m3) / m3,\n",
    "    'balance_diff_m6_rel': (balance_last - m6) / m3,\n",
    "    'balance_diff_m3_m6_rel': (m3 - m6) / m3,\n",
    "    'balance_diff_m3_m12_rel': (m3 - m12) / m3,\n",
    "})\n",
    "del all_avg, balances, account_sums, avg_range, balance_last, bal_mean_q, m3, m6, m12"
   ]
  },
  {
   "cell_type": "code",
   "execution_count": 5,
   "id": "70438c6c-c3b5-4f91-b3ef-7eb15d9bb958",
   "metadata": {
    "ExecuteTime": {
     "end_time": "2021-04-18T02:04:05.686329Z",
     "start_time": "2021-04-18T02:04:05.632355Z"
    }
   },
   "outputs": [
    {
     "data": {
      "text/html": [
       "<div>\n",
       "<style scoped>\n",
       "    .dataframe tbody tr th:only-of-type {\n",
       "        vertical-align: middle;\n",
       "    }\n",
       "\n",
       "    .dataframe tbody tr th {\n",
       "        vertical-align: top;\n",
       "    }\n",
       "\n",
       "    .dataframe thead th {\n",
       "        text-align: right;\n",
       "    }\n",
       "</style>\n",
       "<table border=\"1\" class=\"dataframe\">\n",
       "  <thead>\n",
       "    <tr style=\"text-align: right;\">\n",
       "      <th></th>\n",
       "      <th>balance_range</th>\n",
       "      <th>balance_last_avg</th>\n",
       "      <th>balance_m3</th>\n",
       "      <th>balance_all_avg</th>\n",
       "      <th>balance_rel_range</th>\n",
       "      <th>balance_diff_m3</th>\n",
       "      <th>balance_diff_m6</th>\n",
       "      <th>balance_diff_m3_m6</th>\n",
       "      <th>balance_diff_m3_m12</th>\n",
       "      <th>balance_diff_m3_rel</th>\n",
       "      <th>balance_diff_m6_rel</th>\n",
       "      <th>balance_diff_m3_m6_rel</th>\n",
       "      <th>balance_diff_m3_m12_rel</th>\n",
       "    </tr>\n",
       "  </thead>\n",
       "  <tbody>\n",
       "    <tr>\n",
       "      <th>count</th>\n",
       "      <td>18625.000000</td>\n",
       "      <td>18625.000000</td>\n",
       "      <td>18625.000000</td>\n",
       "      <td>18625.000000</td>\n",
       "      <td>1.192800e+04</td>\n",
       "      <td>18625.000000</td>\n",
       "      <td>18625.000000</td>\n",
       "      <td>18625.000000</td>\n",
       "      <td>18625.000000</td>\n",
       "      <td>1.095500e+04</td>\n",
       "      <td>1.135300e+04</td>\n",
       "      <td>1.135300e+04</td>\n",
       "      <td>1.188000e+04</td>\n",
       "    </tr>\n",
       "    <tr>\n",
       "      <th>mean</th>\n",
       "      <td>52.086197</td>\n",
       "      <td>-90.898470</td>\n",
       "      <td>-8.894519</td>\n",
       "      <td>-69.249358</td>\n",
       "      <td>inf</td>\n",
       "      <td>-82.003951</td>\n",
       "      <td>-81.827563</td>\n",
       "      <td>0.176388</td>\n",
       "      <td>-2.096344</td>\n",
       "      <td>inf</td>\n",
       "      <td>NaN</td>\n",
       "      <td>NaN</td>\n",
       "      <td>NaN</td>\n",
       "    </tr>\n",
       "    <tr>\n",
       "      <th>std</th>\n",
       "      <td>173.264351</td>\n",
       "      <td>934.211685</td>\n",
       "      <td>260.229700</td>\n",
       "      <td>856.256206</td>\n",
       "      <td>NaN</td>\n",
       "      <td>783.180384</td>\n",
       "      <td>786.292911</td>\n",
       "      <td>26.585861</td>\n",
       "      <td>103.712030</td>\n",
       "      <td>NaN</td>\n",
       "      <td>NaN</td>\n",
       "      <td>NaN</td>\n",
       "      <td>NaN</td>\n",
       "    </tr>\n",
       "    <tr>\n",
       "      <th>min</th>\n",
       "      <td>0.000000</td>\n",
       "      <td>-31173.000000</td>\n",
       "      <td>-5631.000000</td>\n",
       "      <td>-28987.666667</td>\n",
       "      <td>-3.730000e+02</td>\n",
       "      <td>-29393.811321</td>\n",
       "      <td>-29237.405660</td>\n",
       "      <td>-959.833333</td>\n",
       "      <td>-8986.270833</td>\n",
       "      <td>-6.010000e+02</td>\n",
       "      <td>-inf</td>\n",
       "      <td>-inf</td>\n",
       "      <td>-inf</td>\n",
       "    </tr>\n",
       "    <tr>\n",
       "      <th>25%</th>\n",
       "      <td>0.000000</td>\n",
       "      <td>0.000000</td>\n",
       "      <td>0.000000</td>\n",
       "      <td>0.000000</td>\n",
       "      <td>-1.054552e-01</td>\n",
       "      <td>-1.285714</td>\n",
       "      <td>-2.000000</td>\n",
       "      <td>0.000000</td>\n",
       "      <td>-0.100000</td>\n",
       "      <td>4.117647e-01</td>\n",
       "      <td>3.125000e-01</td>\n",
       "      <td>-1.174433e-01</td>\n",
       "      <td>-2.734671e-01</td>\n",
       "    </tr>\n",
       "    <tr>\n",
       "      <th>50%</th>\n",
       "      <td>10.833333</td>\n",
       "      <td>0.000000</td>\n",
       "      <td>0.000000</td>\n",
       "      <td>0.000000</td>\n",
       "      <td>4.998547e-01</td>\n",
       "      <td>0.000000</td>\n",
       "      <td>0.000000</td>\n",
       "      <td>0.000000</td>\n",
       "      <td>0.000000</td>\n",
       "      <td>2.940401e+00</td>\n",
       "      <td>2.883538e+00</td>\n",
       "      <td>0.000000e+00</td>\n",
       "      <td>5.943302e-02</td>\n",
       "    </tr>\n",
       "    <tr>\n",
       "      <th>75%</th>\n",
       "      <td>50.833333</td>\n",
       "      <td>7.000000</td>\n",
       "      <td>3.500000</td>\n",
       "      <td>8.750000</td>\n",
       "      <td>2.280093e+00</td>\n",
       "      <td>1.800000</td>\n",
       "      <td>2.333333</td>\n",
       "      <td>1.307292</td>\n",
       "      <td>1.916667</td>\n",
       "      <td>7.495424e+00</td>\n",
       "      <td>7.489877e+00</td>\n",
       "      <td>2.167832e-01</td>\n",
       "      <td>4.065376e-01</td>\n",
       "    </tr>\n",
       "    <tr>\n",
       "      <th>max</th>\n",
       "      <td>7792.083333</td>\n",
       "      <td>38052.000000</td>\n",
       "      <td>19026.000000</td>\n",
       "      <td>34881.000000</td>\n",
       "      <td>inf</td>\n",
       "      <td>25452.500000</td>\n",
       "      <td>25257.909722</td>\n",
       "      <td>689.333333</td>\n",
       "      <td>2894.250000</td>\n",
       "      <td>inf</td>\n",
       "      <td>inf</td>\n",
       "      <td>inf</td>\n",
       "      <td>inf</td>\n",
       "    </tr>\n",
       "  </tbody>\n",
       "</table>\n",
       "</div>"
      ],
      "text/plain": [
       "       balance_range  balance_last_avg    balance_m3  balance_all_avg  \\\n",
       "count   18625.000000      18625.000000  18625.000000     18625.000000   \n",
       "mean       52.086197        -90.898470     -8.894519       -69.249358   \n",
       "std       173.264351        934.211685    260.229700       856.256206   \n",
       "min         0.000000     -31173.000000  -5631.000000    -28987.666667   \n",
       "25%         0.000000          0.000000      0.000000         0.000000   \n",
       "50%        10.833333          0.000000      0.000000         0.000000   \n",
       "75%        50.833333          7.000000      3.500000         8.750000   \n",
       "max      7792.083333      38052.000000  19026.000000     34881.000000   \n",
       "\n",
       "       balance_rel_range  balance_diff_m3  balance_diff_m6  \\\n",
       "count       1.192800e+04     18625.000000     18625.000000   \n",
       "mean                 inf       -82.003951       -81.827563   \n",
       "std                  NaN       783.180384       786.292911   \n",
       "min        -3.730000e+02    -29393.811321    -29237.405660   \n",
       "25%        -1.054552e-01        -1.285714        -2.000000   \n",
       "50%         4.998547e-01         0.000000         0.000000   \n",
       "75%         2.280093e+00         1.800000         2.333333   \n",
       "max                  inf     25452.500000     25257.909722   \n",
       "\n",
       "       balance_diff_m3_m6  balance_diff_m3_m12  balance_diff_m3_rel  \\\n",
       "count        18625.000000         18625.000000         1.095500e+04   \n",
       "mean             0.176388            -2.096344                  inf   \n",
       "std             26.585861           103.712030                  NaN   \n",
       "min           -959.833333         -8986.270833        -6.010000e+02   \n",
       "25%              0.000000            -0.100000         4.117647e-01   \n",
       "50%              0.000000             0.000000         2.940401e+00   \n",
       "75%              1.307292             1.916667         7.495424e+00   \n",
       "max            689.333333          2894.250000                  inf   \n",
       "\n",
       "       balance_diff_m6_rel  balance_diff_m3_m6_rel  balance_diff_m3_m12_rel  \n",
       "count         1.135300e+04            1.135300e+04             1.188000e+04  \n",
       "mean                   NaN                     NaN                      NaN  \n",
       "std                    NaN                     NaN                      NaN  \n",
       "min                   -inf                    -inf                     -inf  \n",
       "25%           3.125000e-01           -1.174433e-01            -2.734671e-01  \n",
       "50%           2.883538e+00            0.000000e+00             5.943302e-02  \n",
       "75%           7.489877e+00            2.167832e-01             4.065376e-01  \n",
       "max                    inf                     inf                      inf  "
      ]
     },
     "execution_count": 5,
     "metadata": {},
     "output_type": "execute_result"
    }
   ],
   "source": [
    "balance_ft.describe()"
   ]
  },
  {
   "cell_type": "markdown",
   "id": "361c8546-3ae3-492d-855b-3ccbfbac16bf",
   "metadata": {},
   "source": [
    "## Construct AUM\n",
    "\n",
    "Same as with balances, but now for assets under managament"
   ]
  },
  {
   "cell_type": "code",
   "execution_count": 6,
   "id": "10632097-3ce0-4808-a785-193b85b57a60",
   "metadata": {},
   "outputs": [],
   "source": [
    "aum = pd.read_csv('train_data/aum.csv')\n",
    "aum['quarter'] = aum['month_end_dt'].replace(months_to_quarters)\n",
    "\n",
    "# Sum up across all accounts for each month\n",
    "aum_sums = aum.groupby(['client_id', 'month_end_dt', 'quarter'])['balance_rur_amt'].sum()\n",
    "\n",
    "# Get mean and STD for last few months for client\n",
    "aum_std = aum_sums.std(level='client_id', skipna=True)\n",
    "aum_mean = aum_sums.mean(level='client_id', skipna=True)\n",
    "\n",
    "# Get the average amount in the last month\n",
    "aum_last = aum_sums.iloc[aum_sums.index.get_level_values('month_end_dt') == '2019-08-31']\n",
    "aum_last.index = aum_last.index.droplevel(['month_end_dt', 'quarter'])\n",
    "\n",
    "# Get quarter averages\n",
    "aum_sums_q = aum_sums.mean(level=['client_id', 'quarter'])\n",
    "\n",
    "m3 = aum_sums_q[aum_sums_q.index.get_level_values('quarter') == 'Q4'].droplevel(1)\n",
    "m6 = aum_sums_q[aum_sums_q.index.get_level_values('quarter').isin(['Q4', 'Q3'])].mean(level=0)\n",
    "m12 = aum_sums_q.mean(level=0)\n",
    "\n",
    "# Create features\n",
    "aum_ft = pd.DataFrame({\n",
    "    'aum_std': aum_std,\n",
    "    'aum_last': aum_last,\n",
    "    'aum_m3': m3,\n",
    "    'aum_all_avg': aum_mean,\n",
    "    'aum_volatility': aum_std/aum_mean,\n",
    "    'aum_diff_m3': aum_last - m3,\n",
    "    'aum_diff_m6': aum_last - m6,\n",
    "    'aum_diff_m3_m6': m3 - m6,\n",
    "    'aum_diff_m3_m12': m3 - m12,\n",
    "    'aum_diff_m3_rel': (aum_last - m3) / m3,\n",
    "    'aum_diff_m6_rel': (aum_last - m6) / m3,\n",
    "    'aum_diff_m3_m6_rel': (m3 - m6) / m3,\n",
    "    'aum_diff_m3_m12_rel': (m3 - m12) / m3,  \n",
    "})\n",
    "del aum, aum_sums, aum_std, aum_mean, aum_last, aum_sums_q, m3, m6, m12"
   ]
  },
  {
   "cell_type": "code",
   "execution_count": 7,
   "id": "87157f46-5f18-4914-bbcf-cadc5467c705",
   "metadata": {
    "ExecuteTime": {
     "end_time": "2021-04-18T02:04:05.888994Z",
     "start_time": "2021-04-18T02:04:05.846424Z"
    }
   },
   "outputs": [
    {
     "data": {
      "text/html": [
       "<div>\n",
       "<style scoped>\n",
       "    .dataframe tbody tr th:only-of-type {\n",
       "        vertical-align: middle;\n",
       "    }\n",
       "\n",
       "    .dataframe tbody tr th {\n",
       "        vertical-align: top;\n",
       "    }\n",
       "\n",
       "    .dataframe thead th {\n",
       "        text-align: right;\n",
       "    }\n",
       "</style>\n",
       "<table border=\"1\" class=\"dataframe\">\n",
       "  <thead>\n",
       "    <tr style=\"text-align: right;\">\n",
       "      <th></th>\n",
       "      <th>aum_std</th>\n",
       "      <th>aum_last</th>\n",
       "      <th>aum_m3</th>\n",
       "      <th>aum_all_avg</th>\n",
       "      <th>aum_volatility</th>\n",
       "      <th>aum_diff_m3</th>\n",
       "      <th>aum_diff_m6</th>\n",
       "      <th>aum_diff_m3_m6</th>\n",
       "      <th>aum_diff_m3_m12</th>\n",
       "      <th>aum_diff_m3_rel</th>\n",
       "      <th>aum_diff_m6_rel</th>\n",
       "      <th>aum_diff_m3_m6_rel</th>\n",
       "      <th>aum_diff_m3_m12_rel</th>\n",
       "    </tr>\n",
       "  </thead>\n",
       "  <tbody>\n",
       "    <tr>\n",
       "      <th>count</th>\n",
       "      <td>1.233600e+04</td>\n",
       "      <td>1.164000e+04</td>\n",
       "      <td>1.199400e+04</td>\n",
       "      <td>1.262500e+04</td>\n",
       "      <td>12215.000000</td>\n",
       "      <td>1.164000e+04</td>\n",
       "      <td>1.164000e+04</td>\n",
       "      <td>1.199400e+04</td>\n",
       "      <td>1.199400e+04</td>\n",
       "      <td>11515.000000</td>\n",
       "      <td>1.154100e+04</td>\n",
       "      <td>1.186500e+04</td>\n",
       "      <td>1.187900e+04</td>\n",
       "    </tr>\n",
       "    <tr>\n",
       "      <th>mean</th>\n",
       "      <td>6.753699e+04</td>\n",
       "      <td>1.679808e+05</td>\n",
       "      <td>1.654494e+05</td>\n",
       "      <td>1.515324e+05</td>\n",
       "      <td>0.932881</td>\n",
       "      <td>-1.170125e+03</td>\n",
       "      <td>5.624825e+03</td>\n",
       "      <td>6.444587e+03</td>\n",
       "      <td>1.868308e+04</td>\n",
       "      <td>-0.047832</td>\n",
       "      <td>-inf</td>\n",
       "      <td>NaN</td>\n",
       "      <td>NaN</td>\n",
       "    </tr>\n",
       "    <tr>\n",
       "      <th>std</th>\n",
       "      <td>3.048220e+05</td>\n",
       "      <td>9.818141e+05</td>\n",
       "      <td>9.318728e+05</td>\n",
       "      <td>7.298385e+05</td>\n",
       "      <td>0.672041</td>\n",
       "      <td>1.474859e+05</td>\n",
       "      <td>2.312114e+05</td>\n",
       "      <td>1.233481e+05</td>\n",
       "      <td>3.131885e+05</td>\n",
       "      <td>0.675079</td>\n",
       "      <td>NaN</td>\n",
       "      <td>NaN</td>\n",
       "      <td>NaN</td>\n",
       "    </tr>\n",
       "    <tr>\n",
       "      <th>min</th>\n",
       "      <td>0.000000e+00</td>\n",
       "      <td>-2.078000e+03</td>\n",
       "      <td>-2.059667e+03</td>\n",
       "      <td>-1.213000e+03</td>\n",
       "      <td>-1.739190</td>\n",
       "      <td>-3.653605e+06</td>\n",
       "      <td>-3.434124e+06</td>\n",
       "      <td>-3.433422e+06</td>\n",
       "      <td>-3.829687e+06</td>\n",
       "      <td>-4.000000</td>\n",
       "      <td>-inf</td>\n",
       "      <td>-inf</td>\n",
       "      <td>-inf</td>\n",
       "    </tr>\n",
       "    <tr>\n",
       "      <th>25%</th>\n",
       "      <td>3.975839e+03</td>\n",
       "      <td>4.895000e+02</td>\n",
       "      <td>2.136000e+03</td>\n",
       "      <td>3.973556e+03</td>\n",
       "      <td>0.466303</td>\n",
       "      <td>-7.791167e+03</td>\n",
       "      <td>-9.190375e+03</td>\n",
       "      <td>-1.816458e+03</td>\n",
       "      <td>-3.060417e+03</td>\n",
       "      <td>-0.531622</td>\n",
       "      <td>-6.979382e-01</td>\n",
       "      <td>-2.272995e-01</td>\n",
       "      <td>-5.057203e-01</td>\n",
       "    </tr>\n",
       "    <tr>\n",
       "      <th>50%</th>\n",
       "      <td>1.461534e+04</td>\n",
       "      <td>1.163150e+04</td>\n",
       "      <td>1.591967e+04</td>\n",
       "      <td>1.634433e+04</td>\n",
       "      <td>0.839445</td>\n",
       "      <td>0.000000e+00</td>\n",
       "      <td>-8.333333e+01</td>\n",
       "      <td>0.000000e+00</td>\n",
       "      <td>0.000000e+00</td>\n",
       "      <td>-0.000212</td>\n",
       "      <td>-4.331307e-02</td>\n",
       "      <td>1.589982e-04</td>\n",
       "      <td>1.910440e-03</td>\n",
       "    </tr>\n",
       "    <tr>\n",
       "      <th>75%</th>\n",
       "      <td>4.718967e+04</td>\n",
       "      <td>6.324600e+04</td>\n",
       "      <td>7.073025e+04</td>\n",
       "      <td>6.585210e+04</td>\n",
       "      <td>1.292106</td>\n",
       "      <td>3.513083e+03</td>\n",
       "      <td>5.960583e+03</td>\n",
       "      <td>6.682708e+03</td>\n",
       "      <td>1.206865e+04</td>\n",
       "      <td>0.184224</td>\n",
       "      <td>2.339255e-01</td>\n",
       "      <td>2.227885e-01</td>\n",
       "      <td>3.368823e-01</td>\n",
       "    </tr>\n",
       "    <tr>\n",
       "      <th>max</th>\n",
       "      <td>1.942198e+07</td>\n",
       "      <td>6.464412e+07</td>\n",
       "      <td>6.405032e+07</td>\n",
       "      <td>4.828950e+07</td>\n",
       "      <td>3.162278</td>\n",
       "      <td>7.464487e+06</td>\n",
       "      <td>1.451986e+07</td>\n",
       "      <td>7.055372e+06</td>\n",
       "      <td>2.025258e+07</td>\n",
       "      <td>2.000000</td>\n",
       "      <td>2.500000e+00</td>\n",
       "      <td>inf</td>\n",
       "      <td>inf</td>\n",
       "    </tr>\n",
       "  </tbody>\n",
       "</table>\n",
       "</div>"
      ],
      "text/plain": [
       "            aum_std      aum_last        aum_m3   aum_all_avg  aum_volatility  \\\n",
       "count  1.233600e+04  1.164000e+04  1.199400e+04  1.262500e+04    12215.000000   \n",
       "mean   6.753699e+04  1.679808e+05  1.654494e+05  1.515324e+05        0.932881   \n",
       "std    3.048220e+05  9.818141e+05  9.318728e+05  7.298385e+05        0.672041   \n",
       "min    0.000000e+00 -2.078000e+03 -2.059667e+03 -1.213000e+03       -1.739190   \n",
       "25%    3.975839e+03  4.895000e+02  2.136000e+03  3.973556e+03        0.466303   \n",
       "50%    1.461534e+04  1.163150e+04  1.591967e+04  1.634433e+04        0.839445   \n",
       "75%    4.718967e+04  6.324600e+04  7.073025e+04  6.585210e+04        1.292106   \n",
       "max    1.942198e+07  6.464412e+07  6.405032e+07  4.828950e+07        3.162278   \n",
       "\n",
       "        aum_diff_m3   aum_diff_m6  aum_diff_m3_m6  aum_diff_m3_m12  \\\n",
       "count  1.164000e+04  1.164000e+04    1.199400e+04     1.199400e+04   \n",
       "mean  -1.170125e+03  5.624825e+03    6.444587e+03     1.868308e+04   \n",
       "std    1.474859e+05  2.312114e+05    1.233481e+05     3.131885e+05   \n",
       "min   -3.653605e+06 -3.434124e+06   -3.433422e+06    -3.829687e+06   \n",
       "25%   -7.791167e+03 -9.190375e+03   -1.816458e+03    -3.060417e+03   \n",
       "50%    0.000000e+00 -8.333333e+01    0.000000e+00     0.000000e+00   \n",
       "75%    3.513083e+03  5.960583e+03    6.682708e+03     1.206865e+04   \n",
       "max    7.464487e+06  1.451986e+07    7.055372e+06     2.025258e+07   \n",
       "\n",
       "       aum_diff_m3_rel  aum_diff_m6_rel  aum_diff_m3_m6_rel  \\\n",
       "count     11515.000000     1.154100e+04        1.186500e+04   \n",
       "mean         -0.047832             -inf                 NaN   \n",
       "std           0.675079              NaN                 NaN   \n",
       "min          -4.000000             -inf                -inf   \n",
       "25%          -0.531622    -6.979382e-01       -2.272995e-01   \n",
       "50%          -0.000212    -4.331307e-02        1.589982e-04   \n",
       "75%           0.184224     2.339255e-01        2.227885e-01   \n",
       "max           2.000000     2.500000e+00                 inf   \n",
       "\n",
       "       aum_diff_m3_m12_rel  \n",
       "count         1.187900e+04  \n",
       "mean                   NaN  \n",
       "std                    NaN  \n",
       "min                   -inf  \n",
       "25%          -5.057203e-01  \n",
       "50%           1.910440e-03  \n",
       "75%           3.368823e-01  \n",
       "max                    inf  "
      ]
     },
     "execution_count": 7,
     "metadata": {},
     "output_type": "execute_result"
    }
   ],
   "source": [
    "aum_ft.describe()"
   ]
  },
  {
   "cell_type": "markdown",
   "id": "f9a8be71-b005-4d50-a8f9-d36a01ad48a8",
   "metadata": {},
   "source": [
    "## Construct client dataset"
   ]
  },
  {
   "cell_type": "code",
   "execution_count": 8,
   "id": "8914c57d-9fc0-4a34-89c3-0cc710a07904",
   "metadata": {
    "ExecuteTime": {
     "end_time": "2021-04-18T02:04:07.759414Z",
     "start_time": "2021-04-18T02:04:07.719296Z"
    }
   },
   "outputs": [],
   "source": [
    "client = pd.read_csv('train_data/client.csv')\n",
    "\n",
    "# Take out citizenship and job_type, they are useless\n",
    "client_ft = client.set_index('client_id')[['gender', 'age', 'region', 'city', 'education']]\n",
    "\n",
    "# Filter out cities and region to only those above 200, make them categorical (not numerical)\n",
    "region_counts = client_ft['region'].value_counts(dropna=False)\n",
    "top_regions = region_counts[region_counts > 200].index\n",
    "\n",
    "city_counts = client_ft['city'].value_counts(dropna=False)\n",
    "top_cities = city_counts[city_counts > 200].index\n",
    "\n",
    "client_ft.loc[~ client_ft['city'].isin(top_cities), 'city'] = None\n",
    "client_ft.loc[~ client_ft['region'].isin(top_regions), 'region'] = None\n",
    "\n",
    "client_ft['city'] = client_ft['city'].astype('str')\n",
    "client_ft['region'] = client_ft['region'].astype('str')\n",
    "\n",
    "client_ft[['gender', 'education']] = client_ft[['gender', 'education']].fillna('nan')"
   ]
  },
  {
   "cell_type": "code",
   "execution_count": 9,
   "id": "8d29af93-8aae-4db2-9713-527dbfdf146d",
   "metadata": {
    "ExecuteTime": {
     "end_time": "2021-04-18T02:04:08.431392Z",
     "start_time": "2021-04-18T02:04:08.393643Z"
    },
    "scrolled": true
   },
   "outputs": [
    {
     "data": {
      "text/html": [
       "<div>\n",
       "<style scoped>\n",
       "    .dataframe tbody tr th:only-of-type {\n",
       "        vertical-align: middle;\n",
       "    }\n",
       "\n",
       "    .dataframe tbody tr th {\n",
       "        vertical-align: top;\n",
       "    }\n",
       "\n",
       "    .dataframe thead th {\n",
       "        text-align: right;\n",
       "    }\n",
       "</style>\n",
       "<table border=\"1\" class=\"dataframe\">\n",
       "  <thead>\n",
       "    <tr style=\"text-align: right;\">\n",
       "      <th></th>\n",
       "      <th>gender</th>\n",
       "      <th>age</th>\n",
       "      <th>region</th>\n",
       "      <th>city</th>\n",
       "      <th>education</th>\n",
       "    </tr>\n",
       "  </thead>\n",
       "  <tbody>\n",
       "    <tr>\n",
       "      <th>count</th>\n",
       "      <td>21498</td>\n",
       "      <td>21495.000000</td>\n",
       "      <td>21498</td>\n",
       "      <td>21498</td>\n",
       "      <td>21498</td>\n",
       "    </tr>\n",
       "    <tr>\n",
       "      <th>unique</th>\n",
       "      <td>3</td>\n",
       "      <td>NaN</td>\n",
       "      <td>29</td>\n",
       "      <td>17</td>\n",
       "      <td>8</td>\n",
       "    </tr>\n",
       "    <tr>\n",
       "      <th>top</th>\n",
       "      <td>F</td>\n",
       "      <td>NaN</td>\n",
       "      <td>nan</td>\n",
       "      <td>nan</td>\n",
       "      <td>nan</td>\n",
       "    </tr>\n",
       "    <tr>\n",
       "      <th>freq</th>\n",
       "      <td>11116</td>\n",
       "      <td>NaN</td>\n",
       "      <td>4461</td>\n",
       "      <td>13862</td>\n",
       "      <td>12218</td>\n",
       "    </tr>\n",
       "    <tr>\n",
       "      <th>mean</th>\n",
       "      <td>NaN</td>\n",
       "      <td>43.097139</td>\n",
       "      <td>NaN</td>\n",
       "      <td>NaN</td>\n",
       "      <td>NaN</td>\n",
       "    </tr>\n",
       "    <tr>\n",
       "      <th>std</th>\n",
       "      <td>NaN</td>\n",
       "      <td>10.798968</td>\n",
       "      <td>NaN</td>\n",
       "      <td>NaN</td>\n",
       "      <td>NaN</td>\n",
       "    </tr>\n",
       "    <tr>\n",
       "      <th>min</th>\n",
       "      <td>NaN</td>\n",
       "      <td>21.000000</td>\n",
       "      <td>NaN</td>\n",
       "      <td>NaN</td>\n",
       "      <td>NaN</td>\n",
       "    </tr>\n",
       "    <tr>\n",
       "      <th>25%</th>\n",
       "      <td>NaN</td>\n",
       "      <td>34.000000</td>\n",
       "      <td>NaN</td>\n",
       "      <td>NaN</td>\n",
       "      <td>NaN</td>\n",
       "    </tr>\n",
       "    <tr>\n",
       "      <th>50%</th>\n",
       "      <td>NaN</td>\n",
       "      <td>42.000000</td>\n",
       "      <td>NaN</td>\n",
       "      <td>NaN</td>\n",
       "      <td>NaN</td>\n",
       "    </tr>\n",
       "    <tr>\n",
       "      <th>75%</th>\n",
       "      <td>NaN</td>\n",
       "      <td>52.000000</td>\n",
       "      <td>NaN</td>\n",
       "      <td>NaN</td>\n",
       "      <td>NaN</td>\n",
       "    </tr>\n",
       "    <tr>\n",
       "      <th>max</th>\n",
       "      <td>NaN</td>\n",
       "      <td>66.000000</td>\n",
       "      <td>NaN</td>\n",
       "      <td>NaN</td>\n",
       "      <td>NaN</td>\n",
       "    </tr>\n",
       "  </tbody>\n",
       "</table>\n",
       "</div>"
      ],
      "text/plain": [
       "       gender           age region   city education\n",
       "count   21498  21495.000000  21498  21498     21498\n",
       "unique      3           NaN     29     17         8\n",
       "top         F           NaN    nan    nan       nan\n",
       "freq    11116           NaN   4461  13862     12218\n",
       "mean      NaN     43.097139    NaN    NaN       NaN\n",
       "std       NaN     10.798968    NaN    NaN       NaN\n",
       "min       NaN     21.000000    NaN    NaN       NaN\n",
       "25%       NaN     34.000000    NaN    NaN       NaN\n",
       "50%       NaN     42.000000    NaN    NaN       NaN\n",
       "75%       NaN     52.000000    NaN    NaN       NaN\n",
       "max       NaN     66.000000    NaN    NaN       NaN"
      ]
     },
     "execution_count": 9,
     "metadata": {},
     "output_type": "execute_result"
    }
   ],
   "source": [
    "client_ft.describe(include='all')"
   ]
  },
  {
   "cell_type": "markdown",
   "id": "e81b2664-2bf7-4fad-9197-f91a69a7f834",
   "metadata": {},
   "source": [
    "## Construct transaction features"
   ]
  },
  {
   "cell_type": "code",
   "execution_count": 10,
   "id": "f9455959-a4b8-450b-b76b-22e919f651fb",
   "metadata": {},
   "outputs": [
    {
     "data": {
      "text/plain": [
       "0"
      ]
     },
     "execution_count": 10,
     "metadata": {},
     "output_type": "execute_result"
    }
   ],
   "source": [
    "column_names = ['client_id', 'tran_amt_rur', 'mcc_cd', 'tran_time']\n",
    "transaction = pd.read_csv('data/trxn.csv', usecols=column_names)\n",
    "transaction_ft = transaction[column_names]\n",
    "del transaction\n",
    "gc.collect()\n",
    "transaction_ft['mcc_cd'] = transaction_ft['mcc_cd'].astype('str')\n",
    "\n",
    "temp_trs = transaction_ft.groupby(['client_id', 'mcc_cd']).sum().reset_index()\n",
    "transaction_ft = temp_trs.loc[temp_trs.groupby('client_id').tran_amt_rur.idxmax()]\n",
    "transaction_ft = transaction_ft.set_index('client_id')\n",
    "transaction_ft['tran_amt_rur'] = transaction_ft['tran_amt_rur'].fillna('nan')\n",
    "del temp_trs\n",
    "gc.collect()"
   ]
  },
  {
   "cell_type": "markdown",
   "id": "5a3271a1-ad96-4e98-825b-16fe4eb13b48",
   "metadata": {},
   "source": [
    "## Construct payment features"
   ]
  },
  {
   "cell_type": "code",
   "execution_count": 32,
   "id": "964266b2-9e42-4b2f-a363-124841e60927",
   "metadata": {},
   "outputs": [],
   "source": [
    "payments = pd.read_csv('data/payments.csv')\n",
    "\n",
    "payments['month'] = pd.to_datetime(payments['day_dt']).apply(lambda x: x + MonthEnd(1))\n",
    "payments['month'] = payments['month'].apply(lambda x: x.strftime('%Y-%m-%d'))\n",
    "payments['quarter'] = payments['month'].replace(months_to_quarters)\n",
    "\n",
    "# Get pensioneers\n",
    "pensioneers = payments.query('pmnts_name == \"Pension receipts\"').client_id.unique()\n",
    "pensioneers = pd.Series(1.0, index=pensioneers)\n",
    "\n",
    "payments_sums = payments.groupby(['client_id', 'month', 'quarter'])['sum_rur'].sum()\n",
    "\n",
    "# Get mean and STD for last few months for client\n",
    "payments_std = payments_sums.std(level='client_id', skipna=True)\n",
    "payments_mean = payments_sums.mean(level='client_id', skipna=True)\n",
    "\n",
    "# Get payments last month\n",
    "payments_last = payments_sums.iloc[payments_sums.index.get_level_values('month') == '2019-08-31']\n",
    "payments_last.index = payments_last.index.droplevel(['month', 'quarter'])\n",
    "\n",
    "# Get quarter averages\n",
    "payments_sums_q = payments_sums.mean(level=['client_id', 'quarter'])\n",
    "\n",
    "m3 = payments_sums_q[payments_sums_q.index.get_level_values('quarter') == 'Q4'].droplevel(1)\n",
    "m6 = payments_sums_q[payments_sums_q.index.get_level_values('quarter').isin(['Q4', 'Q3'])].mean(level=0)\n",
    "m12 = payments_sums_q.mean(level=0)\n",
    "\n",
    "# Create features\n",
    "payments_ft = pd.DataFrame({\n",
    "    'is_pensioneer': pensioneers,\n",
    "    'payments_std': payments_std,\n",
    "    'payments_last': payments_last,\n",
    "#     'payments_m3': m3,\n",
    "    'payments_all_avg': payments_mean,\n",
    "#     'payments_volatility': payments_std/payments_mean,\n",
    "#     'payments_diff_m3': payments_last - m3,\n",
    "#     'payments_diff_m6': payments_last - m6,\n",
    "#     'payments_diff_m3_m6': m3 - m6,\n",
    "#     'payments_diff_m3_m12': m3 - m12,\n",
    "#     'payments_diff_m3_rel': (payments_last - m3) / m3,\n",
    "#     'payments_diff_m6_rel': (payments_last - m6) / m3,\n",
    "#     'payments_diff_m3_m6_rel': (m3 - m6) / m3,\n",
    "#     'payments_diff_m3_m12_rel': (m3 - m12) / m3,  \n",
    "}).fillna({'is_pensioneer': 0})\n",
    "\n",
    "payments_raw_ft = payments_sums.droplevel('quarter').unstack()\n",
    "\n",
    "del payments, payments_sums, payments_std, payments_mean, payments_last, payments_sums_q, m3, m6, m12, pensioneers"
   ]
  },
  {
   "cell_type": "code",
   "execution_count": 33,
   "id": "96b62c1c-e022-4bdc-9e2e-5ebedfc2c8e0",
   "metadata": {},
   "outputs": [
    {
     "data": {
      "text/html": [
       "<div>\n",
       "<style scoped>\n",
       "    .dataframe tbody tr th:only-of-type {\n",
       "        vertical-align: middle;\n",
       "    }\n",
       "\n",
       "    .dataframe tbody tr th {\n",
       "        vertical-align: top;\n",
       "    }\n",
       "\n",
       "    .dataframe thead th {\n",
       "        text-align: right;\n",
       "    }\n",
       "</style>\n",
       "<table border=\"1\" class=\"dataframe\">\n",
       "  <thead>\n",
       "    <tr style=\"text-align: right;\">\n",
       "      <th></th>\n",
       "      <th>is_pensioneer</th>\n",
       "      <th>payments_std</th>\n",
       "      <th>payments_last</th>\n",
       "      <th>payments_all_avg</th>\n",
       "    </tr>\n",
       "  </thead>\n",
       "  <tbody>\n",
       "    <tr>\n",
       "      <th>count</th>\n",
       "      <td>8954.000000</td>\n",
       "      <td>8.752000e+03</td>\n",
       "      <td>7.670000e+03</td>\n",
       "      <td>8.954000e+03</td>\n",
       "    </tr>\n",
       "    <tr>\n",
       "      <th>mean</th>\n",
       "      <td>0.134242</td>\n",
       "      <td>4.033943e+04</td>\n",
       "      <td>5.530271e+04</td>\n",
       "      <td>5.884695e+04</td>\n",
       "    </tr>\n",
       "    <tr>\n",
       "      <th>std</th>\n",
       "      <td>0.340931</td>\n",
       "      <td>1.636440e+05</td>\n",
       "      <td>9.686230e+04</td>\n",
       "      <td>9.290501e+04</td>\n",
       "    </tr>\n",
       "    <tr>\n",
       "      <th>min</th>\n",
       "      <td>0.000000</td>\n",
       "      <td>0.000000e+00</td>\n",
       "      <td>0.000000e+00</td>\n",
       "      <td>2.400000e+01</td>\n",
       "    </tr>\n",
       "    <tr>\n",
       "      <th>25%</th>\n",
       "      <td>0.000000</td>\n",
       "      <td>1.027182e+04</td>\n",
       "      <td>1.460900e+04</td>\n",
       "      <td>2.313831e+04</td>\n",
       "    </tr>\n",
       "    <tr>\n",
       "      <th>50%</th>\n",
       "      <td>0.000000</td>\n",
       "      <td>2.301505e+04</td>\n",
       "      <td>3.118250e+04</td>\n",
       "      <td>4.227073e+04</td>\n",
       "    </tr>\n",
       "    <tr>\n",
       "      <th>75%</th>\n",
       "      <td>0.000000</td>\n",
       "      <td>4.547850e+04</td>\n",
       "      <td>6.265050e+04</td>\n",
       "      <td>7.113442e+04</td>\n",
       "    </tr>\n",
       "    <tr>\n",
       "      <th>max</th>\n",
       "      <td>1.000000</td>\n",
       "      <td>9.266212e+06</td>\n",
       "      <td>4.173208e+06</td>\n",
       "      <td>3.563451e+06</td>\n",
       "    </tr>\n",
       "  </tbody>\n",
       "</table>\n",
       "</div>"
      ],
      "text/plain": [
       "       is_pensioneer  payments_std  payments_last  payments_all_avg\n",
       "count    8954.000000  8.752000e+03   7.670000e+03      8.954000e+03\n",
       "mean        0.134242  4.033943e+04   5.530271e+04      5.884695e+04\n",
       "std         0.340931  1.636440e+05   9.686230e+04      9.290501e+04\n",
       "min         0.000000  0.000000e+00   0.000000e+00      2.400000e+01\n",
       "25%         0.000000  1.027182e+04   1.460900e+04      2.313831e+04\n",
       "50%         0.000000  2.301505e+04   3.118250e+04      4.227073e+04\n",
       "75%         0.000000  4.547850e+04   6.265050e+04      7.113442e+04\n",
       "max         1.000000  9.266212e+06   4.173208e+06      3.563451e+06"
      ]
     },
     "execution_count": 33,
     "metadata": {},
     "output_type": "execute_result"
    }
   ],
   "source": [
    "payments_ft.describe()"
   ]
  },
  {
   "cell_type": "markdown",
   "id": "ab35b771-ff85-4b39-be45-76e51095b3d6",
   "metadata": {},
   "source": [
    "## Construct mystery features"
   ]
  },
  {
   "cell_type": "code",
   "execution_count": 34,
   "id": "2395f54a-1f89-4382-8d4e-1d78e0b11f97",
   "metadata": {},
   "outputs": [],
   "source": [
    "mystery_feats = pd.read_csv('train_data/funnel.csv', usecols=['client_id'] + [f'feature_{i}' for i in range(1, 11)])\n",
    "mystery_feats = mystery_feats.set_index('client_id')\n",
    "mystery_feats['feature_1'] = mystery_feats['feature_1'].astype(str)"
   ]
  },
  {
   "cell_type": "markdown",
   "id": "69a0f3aa-7152-4234-83eb-6db866c5403d",
   "metadata": {},
   "source": [
    "## Construct final dataset"
   ]
  },
  {
   "cell_type": "code",
   "execution_count": 35,
   "id": "f4a1bfc5-7d1a-4d5c-a00e-9d4ba256a52d",
   "metadata": {
    "ExecuteTime": {
     "end_time": "2021-04-18T02:04:11.089200Z",
     "start_time": "2021-04-18T02:04:11.063910Z"
    }
   },
   "outputs": [],
   "source": [
    "LABEL_COLS = ['sale_flg', 'sale_amount', 'contacts', 'profit', 'profitable', 'log_profit']\n",
    "CAT_FEATURES = ['gender', 'region', 'city', 'education', 'mcc_cd', 'feature_1']\n",
    "LABEL = 'log_profit'\n",
    "\n",
    "labels_all = funnel.set_index('client_id')[LABEL_COLS]\n",
    "full_data = pd.concat([\n",
    "    labels_all,\n",
    "    balance_ft,\n",
    "    aum_ft,\n",
    "    client_ft,\n",
    "    transaction_ft,\n",
    "    payments_ft,\n",
    "    payments_raw_ft,\n",
    "    mystery_feats\n",
    "], axis=1)\n",
    "full_data = full_data.fillna({'mcc_cd': 'nan'})"
   ]
  },
  {
   "cell_type": "markdown",
   "id": "8cf1f471-ded4-4b25-ae5f-a715dbda4991",
   "metadata": {},
   "source": [
    "## Split into train, val, test"
   ]
  },
  {
   "cell_type": "code",
   "execution_count": 36,
   "id": "aeb230ab-fa91-49d9-85f4-b09028d34ac5",
   "metadata": {
    "ExecuteTime": {
     "end_time": "2021-04-18T02:04:21.198884Z",
     "start_time": "2021-04-18T02:04:21.087672Z"
    }
   },
   "outputs": [
    {
     "name": "stdout",
     "output_type": "stream",
     "text": [
      "3043.2036976744193\n",
      "2805.0767441860467\n",
      "2501.6929265030817\n"
     ]
    }
   ],
   "source": [
    "train, val, test = train_val_test_split(full_data, [0.8, 0.1, 0.1])\n",
    "\n",
    "train_pool = Pool(\n",
    "    data = train.drop(LABEL_COLS, axis=1),\n",
    "    label = train[LABEL],\n",
    "    cat_features=CAT_FEATURES\n",
    ")\n",
    "\n",
    "val_pool = Pool(\n",
    "    data = val.drop(LABEL_COLS, axis=1), \n",
    "    label = val[LABEL],\n",
    "    cat_features=CAT_FEATURES\n",
    ")\n",
    "test_pool = Pool(data = test.drop(LABEL_COLS, axis=1), cat_features=CAT_FEATURES)\n",
    "\n",
    "print(val.profit.mean())\n",
    "print(test.profit.mean())\n",
    "print(train.profit.mean())"
   ]
  },
  {
   "cell_type": "markdown",
   "id": "87fa4bea-8374-4130-855c-8e772c532008",
   "metadata": {},
   "source": [
    "## Construct model"
   ]
  },
  {
   "cell_type": "code",
   "execution_count": 37,
   "id": "3e0e5308-4804-47ec-8bb3-2be350b44027",
   "metadata": {
    "ExecuteTime": {
     "end_time": "2021-04-18T02:04:23.819928Z",
     "start_time": "2021-04-18T02:04:23.817222Z"
    }
   },
   "outputs": [],
   "source": [
    "model = CatBoostRegressor(\n",
    "    iterations=1500,\n",
    "    depth=10,\n",
    "    loss_function='RMSE',\n",
    "    use_best_model=True,\n",
    ")"
   ]
  },
  {
   "cell_type": "markdown",
   "id": "ec1168db-174f-4821-87d5-0209529e652d",
   "metadata": {},
   "source": [
    "## Run training"
   ]
  },
  {
   "cell_type": "code",
   "execution_count": 38,
   "id": "cb597bdf-ff77-4f7f-b9f3-d33b7601e25e",
   "metadata": {
    "ExecuteTime": {
     "end_time": "2021-04-18T02:05:17.724766Z",
     "start_time": "2021-04-18T02:04:24.942790Z"
    }
   },
   "outputs": [
    {
     "name": "stdout",
     "output_type": "stream",
     "text": [
      "Learning rate set to 0.061276\n",
      "0:\tlearn: 2.8624200\ttest: 2.9150539\tbest: 2.9150539 (0)\ttotal: 83.8ms\tremaining: 2m 5s\n",
      "100:\tlearn: 1.9562876\ttest: 2.2929016\tbest: 2.2929016 (100)\ttotal: 6.74s\tremaining: 1m 33s\n",
      "200:\tlearn: 1.7219338\ttest: 2.2870463\tbest: 2.2866850 (199)\ttotal: 14.4s\tremaining: 1m 32s\n",
      "300:\tlearn: 1.5381381\ttest: 2.2897620\tbest: 2.2830162 (235)\ttotal: 22.8s\tremaining: 1m 30s\n",
      "400:\tlearn: 1.3700758\ttest: 2.2866807\tbest: 2.2830162 (235)\ttotal: 30.6s\tremaining: 1m 23s\n",
      "500:\tlearn: 1.2246748\ttest: 2.2869055\tbest: 2.2830162 (235)\ttotal: 38.4s\tremaining: 1m 16s\n",
      "Stopped by overfitting detector  (300 iterations wait)\n",
      "\n",
      "bestTest = 2.283016204\n",
      "bestIteration = 235\n",
      "\n",
      "Shrink model to first 236 iterations.\n"
     ]
    },
    {
     "data": {
      "text/plain": [
       "<catboost.core.CatBoostRegressor at 0x7f825a54d460>"
      ]
     },
     "execution_count": 38,
     "metadata": {},
     "output_type": "execute_result"
    }
   ],
   "source": [
    "model.fit(train_pool, eval_set=val_pool, verbose=100, early_stopping_rounds=300)"
   ]
  },
  {
   "cell_type": "markdown",
   "id": "66e5dbf6-5b91-415e-a8cc-387cb1b273eb",
   "metadata": {},
   "source": [
    "## Evaluate profitability of solution on val"
   ]
  },
  {
   "cell_type": "code",
   "execution_count": 39,
   "id": "literary-picnic",
   "metadata": {
    "ExecuteTime": {
     "end_time": "2021-04-18T02:05:18.114757Z",
     "start_time": "2021-04-18T02:05:17.727309Z"
    }
   },
   "outputs": [
    {
     "data": {
      "image/png": "[encoded data removed]",
      "text/plain": [
       "<Figure size 432x288 with 1 Axes>"
      ]
     },
     "metadata": {
      "needs_background": "light"
     },
     "output_type": "display_data"
    }
   ],
   "source": [
    "import matplotlib.pyplot as plt\n",
    "plt.hist(model.predict(val_pool), bins=31);"
   ]
  },
  {
   "cell_type": "code",
   "execution_count": 41,
   "id": "d4f6d0bd-f837-487d-86c0-2eb8ad6911d5",
   "metadata": {
    "ExecuteTime": {
     "end_time": "2021-04-18T02:20:17.783435Z",
     "start_time": "2021-04-18T02:20:17.713788Z"
    }
   },
   "outputs": [
    {
     "name": "stdout",
     "output_type": "stream",
     "text": [
      "VAL -3.0 | Baseline profit: 3043.20, model profit: 5916.46\n",
      "VAL -2.9 | Baseline profit: 3043.20, model profit: 5936.31\n",
      "VAL -2.8 | Baseline profit: 3043.20, model profit: 5964.11\n",
      "VAL -2.6999999999999997 | Baseline profit: 3043.20, model profit: 5943.72\n",
      "VAL -2.5999999999999996 | Baseline profit: 3043.20, model profit: 5949.06\n",
      "VAL -2.4999999999999996 | Baseline profit: 3043.20, model profit: 5925.18\n",
      "VAL -2.3999999999999995 | Baseline profit: 3043.20, model profit: 5937.38\n",
      "VAL -2.2999999999999994 | Baseline profit: 3043.20, model profit: 5968.57\n",
      "VAL -2.1999999999999993 | Baseline profit: 3043.20, model profit: 6003.92\n",
      "VAL -2.099999999999999 | Baseline profit: 3043.20, model profit: 6024.09\n",
      "VAL -1.9999999999999991 | Baseline profit: 3043.20, model profit: 5986.78\n",
      "VAL -1.899999999999999 | Baseline profit: 3043.20, model profit: 5949.30\n",
      "VAL -1.799999999999999 | Baseline profit: 3043.20, model profit: 5954.81\n",
      "VAL -1.6999999999999988 | Baseline profit: 3043.20, model profit: 5863.62\n",
      "VAL -1.5999999999999988 | Baseline profit: 3043.20, model profit: 5828.26\n",
      "VAL -1.4999999999999987 | Baseline profit: 3043.20, model profit: 5817.32\n",
      "VAL -1.3999999999999986 | Baseline profit: 3043.20, model profit: 5799.47\n",
      "VAL -1.2999999999999985 | Baseline profit: 3043.20, model profit: 5797.74\n",
      "VAL -1.1999999999999984 | Baseline profit: 3043.20, model profit: 5674.73\n",
      "VAL -1.0999999999999983 | Baseline profit: 3043.20, model profit: 5638.00\n"
     ]
    }
   ],
   "source": [
    "for threshold in np.arange(-3, -1, 0.1):\n",
    "    pred_val = model.predict(val_pool) > threshold\n",
    "    bs_prof_val = val['profit'].mean()\n",
    "\n",
    "    model_prof_val = calculate_profit(val)[pred_val.astype(bool)].sum()\n",
    "    model_prof_val = model_prof_val / len(pred_val)\n",
    "\n",
    "    print(f'VAL {threshold} | Baseline profit: {bs_prof_val:.2f}, model profit: {model_prof_val:.2f}')"
   ]
  },
  {
   "cell_type": "code",
   "execution_count": 58,
   "id": "pretty-preliminary",
   "metadata": {
    "ExecuteTime": {
     "end_time": "2021-04-18T02:20:31.542626Z",
     "start_time": "2021-04-18T02:20:31.539298Z"
    }
   },
   "outputs": [],
   "source": [
    "threshold = - 2.1"
   ]
  },
  {
   "cell_type": "markdown",
   "id": "4cca2ab4-57c4-42dd-87cc-aa03846c0131",
   "metadata": {},
   "source": [
    "## Evaluate profitability of solution on test"
   ]
  },
  {
   "cell_type": "code",
   "execution_count": 59,
   "id": "1a5f575b-198b-4506-8ed7-44dae3c9a84b",
   "metadata": {
    "ExecuteTime": {
     "end_time": "2021-04-18T02:20:39.257117Z",
     "start_time": "2021-04-18T02:20:39.246918Z"
    }
   },
   "outputs": [
    {
     "name": "stdout",
     "output_type": "stream",
     "text": [
      "TEST | Baseline profit: 2805.08, model profit: 5662.89\n"
     ]
    }
   ],
   "source": [
    "pred_test = model.predict(test_pool) > threshold\n",
    "bs_prof_test = test['profit'].mean()\n",
    "\n",
    "model_prof_test = calculate_profit(test)[pred_test.astype(bool)].sum()\n",
    "model_prof_test = model_prof_test / len(pred_test)\n",
    "\n",
    "print(f'TEST | Baseline profit: {bs_prof_test:.2f}, model profit: {model_prof_test:.2f}')"
   ]
  },
  {
   "cell_type": "markdown",
   "id": "a2ddb70e-9f1b-4895-9697-a20ae8e006ee",
   "metadata": {},
   "source": [
    "## Notes\n",
    "\n",
    "1. Using just balance  or features, I get below baseline\n",
    "2. Using balance + client features, I get 3074 on test,  3345.24 on val\n",
    "3. Using balance + aum + client fts, I get 2944.95 on test, 3607.06 on val\n",
    "4. Same as prev step - but using regressor, I get crazy 5289 on test, 5792 on val\n",
    "5. Same step as prev, but using signed log on profit + thresholding I get 5906.70 on val, and 5516.17 on test\n",
    "6. Same as prev + transaction features, I get 5887.00 on val, and 5442.85 ont test\n",
    "7. above + payment fts, I get 5959.00 on val, 5458.27 on test\n",
    "8. above + mystery fts, I get 5961.78 on val, and 5597.67 on test\n",
    "9. above + transforming balances, val: 6012.78, test: 5628.89\n",
    "10. above + transforming aum, val: 6021.99, test: 5692.18\n",
    "11. above + transforming payments, val: 5998.36, test: 5637.98\n",
    "12. above + adding payments current, val: 6001.72, test: 5632.70\n",
    "13. above + raw payments fts, val: 6005.82, test: 5673.20\n",
    "14. above + replace last by m3 in denominator, val: 5975.54, test: 5687.57\n",
    "14. above + remove most non raw payments, val: 5975.54, test: 5687.57"
   ]
  },
  {
   "cell_type": "markdown",
   "id": "a3e9c362-6a16-4bb7-a5d5-6e366582280d",
   "metadata": {},
   "source": [
    "## Grid search for best params"
   ]
  },
  {
   "cell_type": "code",
   "execution_count": 26,
   "id": "d735a2ee-674f-4a96-8b41-73c3f35c9a88",
   "metadata": {},
   "outputs": [],
   "source": [
    "# full_data_train= full_data.drop(LABEL_COLS, axis=1)\n",
    "# full_data_pool = Pool(\n",
    "#     data = full_data_train, \n",
    "#     label = full_data['log_profit'],              \n",
    "#     cat_features=CAT_FEATURES\n",
    "# )\n",
    "\n",
    "# model = CatBoostRegressor(\n",
    "#     iterations=1500,\n",
    "#     depth=10,\n",
    "#     loss_function='RMSE',\n",
    "#     verbose=100,\n",
    "# )\n",
    "\n",
    "# gs_res = model.grid_search(\n",
    "#     X=full_data_pool,\n",
    "#     search_by_train_test_split=True,\n",
    "#     train_size=0.8,\n",
    "#     partition_random_seed=42,\n",
    "#     param_grid={'depth': [8,10], 'l2_leaf_reg': [1, 3, 6], 'bagging_temperature': [0, 1, 2]},\n",
    "#     verbose=True,\n",
    "# )"
   ]
  },
  {
   "cell_type": "markdown",
   "id": "6311a191-3813-4bde-b88f-a4560e7483de",
   "metadata": {},
   "source": [
    "## Feature importance"
   ]
  },
  {
   "cell_type": "code",
   "execution_count": 27,
   "id": "f4ad4fd6-7294-47e2-94d8-73377c24380d",
   "metadata": {},
   "outputs": [
    {
     "data": {
      "text/html": [
       "<div>\n",
       "<style scoped>\n",
       "    .dataframe tbody tr th:only-of-type {\n",
       "        vertical-align: middle;\n",
       "    }\n",
       "\n",
       "    .dataframe tbody tr th {\n",
       "        vertical-align: top;\n",
       "    }\n",
       "\n",
       "    .dataframe thead th {\n",
       "        text-align: right;\n",
       "    }\n",
       "</style>\n",
       "<table border=\"1\" class=\"dataframe\">\n",
       "  <thead>\n",
       "    <tr style=\"text-align: right;\">\n",
       "      <th></th>\n",
       "      <th>Feature Id</th>\n",
       "      <th>Importances</th>\n",
       "    </tr>\n",
       "  </thead>\n",
       "  <tbody>\n",
       "    <tr>\n",
       "      <th>0</th>\n",
       "      <td>education</td>\n",
       "      <td>20.979873</td>\n",
       "    </tr>\n",
       "    <tr>\n",
       "      <th>1</th>\n",
       "      <td>feature_1</td>\n",
       "      <td>5.201237</td>\n",
       "    </tr>\n",
       "    <tr>\n",
       "      <th>2</th>\n",
       "      <td>feature_6</td>\n",
       "      <td>3.596786</td>\n",
       "    </tr>\n",
       "    <tr>\n",
       "      <th>3</th>\n",
       "      <td>feature_4</td>\n",
       "      <td>3.274843</td>\n",
       "    </tr>\n",
       "    <tr>\n",
       "      <th>4</th>\n",
       "      <td>balance_rel_range</td>\n",
       "      <td>2.938727</td>\n",
       "    </tr>\n",
       "    <tr>\n",
       "      <th>...</th>\n",
       "      <td>...</td>\n",
       "      <td>...</td>\n",
       "    </tr>\n",
       "    <tr>\n",
       "      <th>65</th>\n",
       "      <td>2018-12-31</td>\n",
       "      <td>0.424967</td>\n",
       "    </tr>\n",
       "    <tr>\n",
       "      <th>66</th>\n",
       "      <td>2019-04-30</td>\n",
       "      <td>0.413978</td>\n",
       "    </tr>\n",
       "    <tr>\n",
       "      <th>67</th>\n",
       "      <td>payments_std</td>\n",
       "      <td>0.375259</td>\n",
       "    </tr>\n",
       "    <tr>\n",
       "      <th>68</th>\n",
       "      <td>payments_m3</td>\n",
       "      <td>0.330359</td>\n",
       "    </tr>\n",
       "    <tr>\n",
       "      <th>69</th>\n",
       "      <td>payments_diff_m6</td>\n",
       "      <td>0.254617</td>\n",
       "    </tr>\n",
       "  </tbody>\n",
       "</table>\n",
       "<p>70 rows × 2 columns</p>\n",
       "</div>"
      ],
      "text/plain": [
       "           Feature Id  Importances\n",
       "0           education    20.979873\n",
       "1           feature_1     5.201237\n",
       "2           feature_6     3.596786\n",
       "3           feature_4     3.274843\n",
       "4   balance_rel_range     2.938727\n",
       "..                ...          ...\n",
       "65         2018-12-31     0.424967\n",
       "66         2019-04-30     0.413978\n",
       "67       payments_std     0.375259\n",
       "68        payments_m3     0.330359\n",
       "69   payments_diff_m6     0.254617\n",
       "\n",
       "[70 rows x 2 columns]"
      ]
     },
     "execution_count": 27,
     "metadata": {},
     "output_type": "execute_result"
    }
   ],
   "source": [
    "model.get_feature_importance(val_pool, \n",
    "    type='FeatureImportance', prettified=True\n",
    ")"
   ]
  },
  {
   "cell_type": "markdown",
   "id": "2fe81dec-6620-43bd-ac1b-1f40bc10ec79",
   "metadata": {},
   "source": [
    "## Save model on FULL data and save it"
   ]
  },
  {
   "cell_type": "code",
   "execution_count": 28,
   "id": "87dcd0d3-4c1e-4542-94ee-b04737e61768",
   "metadata": {},
   "outputs": [],
   "source": [
    "model.save_model('models/tadej_model.cbm', 'cbm')"
   ]
  },
  {
   "cell_type": "markdown",
   "id": "4c8c62d5-2bb3-4847-8f63-e0d83a98ac3d",
   "metadata": {},
   "source": [
    "## Test load, data and produce predictions"
   ]
  },
  {
   "cell_type": "code",
   "execution_count": 29,
   "id": "e73d2236-73cd-4153-9fc9-b52e29dc4671",
   "metadata": {},
   "outputs": [],
   "source": [
    "# Save data first, as it would be in the build step\n",
    "full_data.drop(LABEL_COLS, axis=1).to_pickle('final_version.pickle')"
   ]
  },
  {
   "cell_type": "code",
   "execution_count": 30,
   "id": "3bab80ed-d3e5-42d5-a61c-202c2524ea9f",
   "metadata": {},
   "outputs": [],
   "source": [
    "model = CatBoostRegressor().load_model('models/tadej_model.cbm', 'cbm')\n",
    "data = pd.read_pickle('final_version.pickle')\n",
    "data_pool = Pool(data = data, cat_features=CAT_FEATURES)\n",
    "\n",
    "target = (model.predict(data_pool) > threshold).astype(int)\n",
    "submission = pd.DataFrame({'client_id': data.index, 'target': target})\n",
    "submission.to_csv('submission.csv', index=False)"
   ]
  },
  {
   "cell_type": "code",
   "execution_count": 31,
   "id": "b70fed8c-4704-4ef1-b5a6-6fb917996896",
   "metadata": {},
   "outputs": [
    {
     "data": {
      "text/html": [
       "<div>\n",
       "<style scoped>\n",
       "    .dataframe tbody tr th:only-of-type {\n",
       "        vertical-align: middle;\n",
       "    }\n",
       "\n",
       "    .dataframe tbody tr th {\n",
       "        vertical-align: top;\n",
       "    }\n",
       "\n",
       "    .dataframe thead th {\n",
       "        text-align: right;\n",
       "    }\n",
       "</style>\n",
       "<table border=\"1\" class=\"dataframe\">\n",
       "  <thead>\n",
       "    <tr style=\"text-align: right;\">\n",
       "      <th></th>\n",
       "      <th>client_id</th>\n",
       "      <th>target</th>\n",
       "    </tr>\n",
       "  </thead>\n",
       "  <tbody>\n",
       "    <tr>\n",
       "      <th>0</th>\n",
       "      <td>-9221941791080978530</td>\n",
       "      <td>0</td>\n",
       "    </tr>\n",
       "    <tr>\n",
       "      <th>1</th>\n",
       "      <td>-9220369594510368140</td>\n",
       "      <td>0</td>\n",
       "    </tr>\n",
       "    <tr>\n",
       "      <th>2</th>\n",
       "      <td>-9220236243053692422</td>\n",
       "      <td>1</td>\n",
       "    </tr>\n",
       "    <tr>\n",
       "      <th>3</th>\n",
       "      <td>-9220233431709087652</td>\n",
       "      <td>1</td>\n",
       "    </tr>\n",
       "    <tr>\n",
       "      <th>4</th>\n",
       "      <td>-9219699286371310531</td>\n",
       "      <td>0</td>\n",
       "    </tr>\n",
       "    <tr>\n",
       "      <th>...</th>\n",
       "      <td>...</td>\n",
       "      <td>...</td>\n",
       "    </tr>\n",
       "    <tr>\n",
       "      <th>21493</th>\n",
       "      <td>9219024469308275500</td>\n",
       "      <td>0</td>\n",
       "    </tr>\n",
       "    <tr>\n",
       "      <th>21494</th>\n",
       "      <td>9219416956046769492</td>\n",
       "      <td>0</td>\n",
       "    </tr>\n",
       "    <tr>\n",
       "      <th>21495</th>\n",
       "      <td>9219968212912398941</td>\n",
       "      <td>0</td>\n",
       "    </tr>\n",
       "    <tr>\n",
       "      <th>21496</th>\n",
       "      <td>9220335314469087849</td>\n",
       "      <td>0</td>\n",
       "    </tr>\n",
       "    <tr>\n",
       "      <th>21497</th>\n",
       "      <td>9223107459698100059</td>\n",
       "      <td>0</td>\n",
       "    </tr>\n",
       "  </tbody>\n",
       "</table>\n",
       "<p>21498 rows × 2 columns</p>\n",
       "</div>"
      ],
      "text/plain": [
       "                 client_id  target\n",
       "0     -9221941791080978530       0\n",
       "1     -9220369594510368140       0\n",
       "2     -9220236243053692422       1\n",
       "3     -9220233431709087652       1\n",
       "4     -9219699286371310531       0\n",
       "...                    ...     ...\n",
       "21493  9219024469308275500       0\n",
       "21494  9219416956046769492       0\n",
       "21495  9219968212912398941       0\n",
       "21496  9220335314469087849       0\n",
       "21497  9223107459698100059       0\n",
       "\n",
       "[21498 rows x 2 columns]"
      ]
     },
     "execution_count": 31,
     "metadata": {},
     "output_type": "execute_result"
    }
   ],
   "source": [
    "pd.read_csv('submission.csv')"
   ]
  },
  {
   "cell_type": "code",
   "execution_count": null,
   "id": "cc319a26-6535-406a-a430-c8310835525f",
   "metadata": {},
   "outputs": [],
   "source": []
  }
 ],
 "metadata": {
  "kernelspec": {
   "display_name": "Python 3",
   "language": "python",
   "name": "python3"
  },
  "language_info": {
   "codemirror_mode": {
    "name": "ipython",
    "version": 3
   },
   "file_extension": ".py",
   "mimetype": "text/x-python",
   "name": "python",
   "nbconvert_exporter": "python",
   "pygments_lexer": "ipython3",
   "version": "3.8.5"
  },
  "toc": {
   "base_numbering": 1,
   "nav_menu": {},
   "number_sections": true,
   "sideBar": true,
   "skip_h1_title": false,
   "title_cell": "Table of Contents",
   "title_sidebar": "Contents",
   "toc_cell": false,
   "toc_position": {},
   "toc_section_display": true,
   "toc_window_display": false
  }
 },
 "nbformat": 4,
 "nbformat_minor": 5
}
